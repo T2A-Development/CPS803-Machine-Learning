{
 "cells": [
  {
   "cell_type": "markdown",
   "id": "0a83aed5",
   "metadata": {},
   "source": [
    "# <font color='Red'>Final Project - CPS 806 Machine Learning F2021</font>"
   ]
  },
  {
   "cell_type": "markdown",
   "id": "53c3a707",
   "metadata": {},
   "source": [
    "# Credit Card Fraud Detection Using Machine Learning"
   ]
  },
  {
   "cell_type": "markdown",
   "id": "644e1753",
   "metadata": {},
   "source": [
    "# <font color='Green'>**Group-06**</font>\n",
    "# <font color='Green'>Name:Linh Le 500895991 </font>\n",
    "# <font color='Green'>Name:Bradley Pahati 500829758 </font>\n",
    "# <font color='Green'>Name:Anh Phung 500895992 </font>\n",
    "# <font color='Green'>Name:Tusaif Azmat 500660278 </font>"
   ]
  },
  {
   "cell_type": "markdown",
   "id": "4a3f46bf",
   "metadata": {},
   "source": [
    "# <font color='Navy Blue'>Problem to solve: Credit Card Fraud Detection </font>\n",
    "<font color='Maroon'>**The objective for this project is to build machine learning models to classify or identify fraudulent card transactions from a given set of card transaction data. We want to predict if the transaction is fraudulent based on the input attributes and identify it as fraudulent or genuine.** </font>\n",
    "\n",
    "<font color='Maroon'>**The dataset has been collected and analysed during a research collaboration of Worldline and the Machine Learning Group (http://mlg.ulb.ac.be) of ULB (Université Libre de Bruxelles) on big data mining and fraud detection. We downloaded the data from https://www.kaggle.com/mlg-ulb/creditcardfraud.** </font>"
   ]
  },
  {
   "cell_type": "code",
   "execution_count": 1,
   "id": "064a52fa",
   "metadata": {},
   "outputs": [],
   "source": [
    "import numpy as np\n",
    "import scipy as sp\n",
    "import pandas as pd\n",
    "import matplotlib as mpl\n",
    "import matplotlib.pyplot as plt\n",
    "import seaborn as sns\n",
    "import itertools\n",
    "from sklearn.preprocessing import StandardScaler\n",
    "from sklearn.model_selection import train_test_split\n",
    "from sklearn.ensemble import RandomForestClassifier\n",
    "from sklearn.neighbors import KNeighborsClassifier\n",
    "from sklearn.tree import DecisionTreeClassifier\n",
    "from sklearn.svm import SVC\n",
    "from sklearn.linear_model import LogisticRegression\n",
    "## Naive Bayse\n",
    "from sklearn.naive_bayes import GaussianNB\n",
    "##Neural Network\n",
    "from keras.models import Sequential\n",
    "from keras.layers import Dense\n",
    "from keras.layers import Dropout\n",
    "#oversampling\n",
    "from imblearn.over_sampling import SMOTE\n",
    "#Cross validations\n",
    "from sklearn.model_selection import cross_val_score\n",
    "\n",
    "from sklearn import svm, datasets\n",
    "from sklearn.metrics import confusion_matrix\n",
    "from sklearn.metrics import accuracy_score, f1_score, precision_score, recall_score, plot_roc_curve\n",
    "\n",
    "# Plotting options\n",
    "%matplotlib inline"
   ]
  },
  {
   "cell_type": "code",
   "execution_count": 2,
   "id": "33384d60",
   "metadata": {},
   "outputs": [],
   "source": [
    "data_f = pd.read_csv('creditcard.csv')"
   ]
  },
  {
   "cell_type": "markdown",
   "id": "cedca674",
   "metadata": {},
   "source": [
    "# 1: Data Exploration"
   ]
  },
  {
   "cell_type": "code",
   "execution_count": 3,
   "id": "65d2e374",
   "metadata": {},
   "outputs": [
    {
     "data": {
      "text/plain": [
       "(284807, 31)"
      ]
     },
     "execution_count": 3,
     "metadata": {},
     "output_type": "execute_result"
    }
   ],
   "source": [
    "data_f.shape"
   ]
  },
  {
   "cell_type": "code",
   "execution_count": 4,
   "id": "07892b7a",
   "metadata": {},
   "outputs": [
    {
     "data": {
      "text/html": [
       "<div>\n",
       "<style scoped>\n",
       "    .dataframe tbody tr th:only-of-type {\n",
       "        vertical-align: middle;\n",
       "    }\n",
       "\n",
       "    .dataframe tbody tr th {\n",
       "        vertical-align: top;\n",
       "    }\n",
       "\n",
       "    .dataframe thead th {\n",
       "        text-align: right;\n",
       "    }\n",
       "</style>\n",
       "<table border=\"1\" class=\"dataframe\">\n",
       "  <thead>\n",
       "    <tr style=\"text-align: right;\">\n",
       "      <th></th>\n",
       "      <th>Time</th>\n",
       "      <th>V1</th>\n",
       "      <th>V2</th>\n",
       "      <th>V3</th>\n",
       "      <th>V4</th>\n",
       "      <th>V5</th>\n",
       "      <th>V6</th>\n",
       "      <th>V7</th>\n",
       "      <th>V8</th>\n",
       "      <th>V9</th>\n",
       "      <th>...</th>\n",
       "      <th>V21</th>\n",
       "      <th>V22</th>\n",
       "      <th>V23</th>\n",
       "      <th>V24</th>\n",
       "      <th>V25</th>\n",
       "      <th>V26</th>\n",
       "      <th>V27</th>\n",
       "      <th>V28</th>\n",
       "      <th>Amount</th>\n",
       "      <th>Class</th>\n",
       "    </tr>\n",
       "  </thead>\n",
       "  <tbody>\n",
       "    <tr>\n",
       "      <th>78546</th>\n",
       "      <td>57580.0</td>\n",
       "      <td>-2.996513</td>\n",
       "      <td>-0.135466</td>\n",
       "      <td>2.198312</td>\n",
       "      <td>0.069924</td>\n",
       "      <td>-0.341967</td>\n",
       "      <td>-0.420372</td>\n",
       "      <td>0.154054</td>\n",
       "      <td>-0.292945</td>\n",
       "      <td>0.874003</td>\n",
       "      <td>...</td>\n",
       "      <td>-0.267124</td>\n",
       "      <td>0.518645</td>\n",
       "      <td>0.337625</td>\n",
       "      <td>0.564798</td>\n",
       "      <td>0.236132</td>\n",
       "      <td>0.339641</td>\n",
       "      <td>-0.259024</td>\n",
       "      <td>-0.094020</td>\n",
       "      <td>56.75</td>\n",
       "      <td>0</td>\n",
       "    </tr>\n",
       "    <tr>\n",
       "      <th>204466</th>\n",
       "      <td>135296.0</td>\n",
       "      <td>1.981511</td>\n",
       "      <td>-0.094518</td>\n",
       "      <td>-0.384720</td>\n",
       "      <td>0.427720</td>\n",
       "      <td>-0.831047</td>\n",
       "      <td>-1.732214</td>\n",
       "      <td>-0.016891</td>\n",
       "      <td>-0.305456</td>\n",
       "      <td>0.532562</td>\n",
       "      <td>...</td>\n",
       "      <td>-0.402998</td>\n",
       "      <td>-1.200192</td>\n",
       "      <td>0.666358</td>\n",
       "      <td>0.870064</td>\n",
       "      <td>-0.854185</td>\n",
       "      <td>-0.035765</td>\n",
       "      <td>-0.069185</td>\n",
       "      <td>-0.039395</td>\n",
       "      <td>6.15</td>\n",
       "      <td>0</td>\n",
       "    </tr>\n",
       "    <tr>\n",
       "      <th>10394</th>\n",
       "      <td>16750.0</td>\n",
       "      <td>-2.106058</td>\n",
       "      <td>1.945830</td>\n",
       "      <td>0.299126</td>\n",
       "      <td>-1.173016</td>\n",
       "      <td>-0.556718</td>\n",
       "      <td>-0.065628</td>\n",
       "      <td>-0.741967</td>\n",
       "      <td>1.407596</td>\n",
       "      <td>0.813595</td>\n",
       "      <td>...</td>\n",
       "      <td>-0.259809</td>\n",
       "      <td>-0.726520</td>\n",
       "      <td>-0.007314</td>\n",
       "      <td>-0.858960</td>\n",
       "      <td>-0.059452</td>\n",
       "      <td>0.684484</td>\n",
       "      <td>0.078900</td>\n",
       "      <td>0.049865</td>\n",
       "      <td>6.04</td>\n",
       "      <td>0</td>\n",
       "    </tr>\n",
       "    <tr>\n",
       "      <th>52684</th>\n",
       "      <td>45588.0</td>\n",
       "      <td>1.379631</td>\n",
       "      <td>-0.355981</td>\n",
       "      <td>-0.093639</td>\n",
       "      <td>-0.623674</td>\n",
       "      <td>-0.643501</td>\n",
       "      <td>-1.132860</td>\n",
       "      <td>-0.120703</td>\n",
       "      <td>-0.273602</td>\n",
       "      <td>-1.123212</td>\n",
       "      <td>...</td>\n",
       "      <td>0.236110</td>\n",
       "      <td>0.628802</td>\n",
       "      <td>-0.091465</td>\n",
       "      <td>0.432914</td>\n",
       "      <td>0.663511</td>\n",
       "      <td>-0.074217</td>\n",
       "      <td>-0.014544</td>\n",
       "      <td>0.001243</td>\n",
       "      <td>15.00</td>\n",
       "      <td>0</td>\n",
       "    </tr>\n",
       "    <tr>\n",
       "      <th>19526</th>\n",
       "      <td>30357.0</td>\n",
       "      <td>1.186853</td>\n",
       "      <td>-0.220765</td>\n",
       "      <td>0.693078</td>\n",
       "      <td>0.291085</td>\n",
       "      <td>-0.857508</td>\n",
       "      <td>-0.507070</td>\n",
       "      <td>-0.334767</td>\n",
       "      <td>0.038423</td>\n",
       "      <td>0.507867</td>\n",
       "      <td>...</td>\n",
       "      <td>-0.070996</td>\n",
       "      <td>-0.028140</td>\n",
       "      <td>-0.025779</td>\n",
       "      <td>0.619003</td>\n",
       "      <td>0.340827</td>\n",
       "      <td>1.023531</td>\n",
       "      <td>-0.069028</td>\n",
       "      <td>-0.006102</td>\n",
       "      <td>10.00</td>\n",
       "      <td>0</td>\n",
       "    </tr>\n",
       "    <tr>\n",
       "      <th>133227</th>\n",
       "      <td>80300.0</td>\n",
       "      <td>-0.288496</td>\n",
       "      <td>-0.154532</td>\n",
       "      <td>1.849298</td>\n",
       "      <td>-0.838514</td>\n",
       "      <td>-0.902036</td>\n",
       "      <td>0.107294</td>\n",
       "      <td>-0.345737</td>\n",
       "      <td>0.187286</td>\n",
       "      <td>-1.189529</td>\n",
       "      <td>...</td>\n",
       "      <td>-0.145535</td>\n",
       "      <td>0.087219</td>\n",
       "      <td>-0.090135</td>\n",
       "      <td>0.058793</td>\n",
       "      <td>-0.469658</td>\n",
       "      <td>1.184513</td>\n",
       "      <td>0.084329</td>\n",
       "      <td>0.117679</td>\n",
       "      <td>33.70</td>\n",
       "      <td>0</td>\n",
       "    </tr>\n",
       "    <tr>\n",
       "      <th>97724</th>\n",
       "      <td>66355.0</td>\n",
       "      <td>1.127802</td>\n",
       "      <td>0.108185</td>\n",
       "      <td>0.441482</td>\n",
       "      <td>1.163342</td>\n",
       "      <td>-0.521787</td>\n",
       "      <td>-0.877121</td>\n",
       "      <td>0.104332</td>\n",
       "      <td>-0.149754</td>\n",
       "      <td>0.177589</td>\n",
       "      <td>...</td>\n",
       "      <td>-0.049707</td>\n",
       "      <td>-0.274672</td>\n",
       "      <td>-0.039850</td>\n",
       "      <td>0.339798</td>\n",
       "      <td>0.464857</td>\n",
       "      <td>-0.466884</td>\n",
       "      <td>0.009838</td>\n",
       "      <td>0.034389</td>\n",
       "      <td>57.00</td>\n",
       "      <td>0</td>\n",
       "    </tr>\n",
       "    <tr>\n",
       "      <th>57781</th>\n",
       "      <td>48073.0</td>\n",
       "      <td>-1.847001</td>\n",
       "      <td>-0.996573</td>\n",
       "      <td>2.023449</td>\n",
       "      <td>-2.799413</td>\n",
       "      <td>-0.619314</td>\n",
       "      <td>-0.772027</td>\n",
       "      <td>0.527682</td>\n",
       "      <td>0.236328</td>\n",
       "      <td>1.215776</td>\n",
       "      <td>...</td>\n",
       "      <td>0.338499</td>\n",
       "      <td>0.561425</td>\n",
       "      <td>0.200928</td>\n",
       "      <td>0.339478</td>\n",
       "      <td>0.752751</td>\n",
       "      <td>-0.077980</td>\n",
       "      <td>0.163429</td>\n",
       "      <td>0.134157</td>\n",
       "      <td>225.63</td>\n",
       "      <td>0</td>\n",
       "    </tr>\n",
       "    <tr>\n",
       "      <th>9482</th>\n",
       "      <td>14057.0</td>\n",
       "      <td>1.083537</td>\n",
       "      <td>-0.485675</td>\n",
       "      <td>0.940875</td>\n",
       "      <td>-0.461137</td>\n",
       "      <td>-1.139804</td>\n",
       "      <td>-0.668618</td>\n",
       "      <td>-0.529329</td>\n",
       "      <td>-0.182664</td>\n",
       "      <td>3.002159</td>\n",
       "      <td>...</td>\n",
       "      <td>0.046635</td>\n",
       "      <td>0.503079</td>\n",
       "      <td>-0.215438</td>\n",
       "      <td>0.346511</td>\n",
       "      <td>0.606579</td>\n",
       "      <td>-0.578811</td>\n",
       "      <td>0.057062</td>\n",
       "      <td>0.043328</td>\n",
       "      <td>90.00</td>\n",
       "      <td>0</td>\n",
       "    </tr>\n",
       "    <tr>\n",
       "      <th>131239</th>\n",
       "      <td>79530.0</td>\n",
       "      <td>1.126310</td>\n",
       "      <td>-0.099432</td>\n",
       "      <td>-0.098993</td>\n",
       "      <td>1.555512</td>\n",
       "      <td>1.700556</td>\n",
       "      <td>4.420202</td>\n",
       "      <td>-1.100771</td>\n",
       "      <td>1.157203</td>\n",
       "      <td>-0.023955</td>\n",
       "      <td>...</td>\n",
       "      <td>-0.122548</td>\n",
       "      <td>-0.414695</td>\n",
       "      <td>-0.015070</td>\n",
       "      <td>0.993707</td>\n",
       "      <td>0.446488</td>\n",
       "      <td>-0.030981</td>\n",
       "      <td>0.039856</td>\n",
       "      <td>0.033860</td>\n",
       "      <td>28.67</td>\n",
       "      <td>0</td>\n",
       "    </tr>\n",
       "  </tbody>\n",
       "</table>\n",
       "<p>10 rows × 31 columns</p>\n",
       "</div>"
      ],
      "text/plain": [
       "            Time        V1        V2        V3        V4        V5        V6  \\\n",
       "78546    57580.0 -2.996513 -0.135466  2.198312  0.069924 -0.341967 -0.420372   \n",
       "204466  135296.0  1.981511 -0.094518 -0.384720  0.427720 -0.831047 -1.732214   \n",
       "10394    16750.0 -2.106058  1.945830  0.299126 -1.173016 -0.556718 -0.065628   \n",
       "52684    45588.0  1.379631 -0.355981 -0.093639 -0.623674 -0.643501 -1.132860   \n",
       "19526    30357.0  1.186853 -0.220765  0.693078  0.291085 -0.857508 -0.507070   \n",
       "133227   80300.0 -0.288496 -0.154532  1.849298 -0.838514 -0.902036  0.107294   \n",
       "97724    66355.0  1.127802  0.108185  0.441482  1.163342 -0.521787 -0.877121   \n",
       "57781    48073.0 -1.847001 -0.996573  2.023449 -2.799413 -0.619314 -0.772027   \n",
       "9482     14057.0  1.083537 -0.485675  0.940875 -0.461137 -1.139804 -0.668618   \n",
       "131239   79530.0  1.126310 -0.099432 -0.098993  1.555512  1.700556  4.420202   \n",
       "\n",
       "              V7        V8        V9  ...       V21       V22       V23  \\\n",
       "78546   0.154054 -0.292945  0.874003  ... -0.267124  0.518645  0.337625   \n",
       "204466 -0.016891 -0.305456  0.532562  ... -0.402998 -1.200192  0.666358   \n",
       "10394  -0.741967  1.407596  0.813595  ... -0.259809 -0.726520 -0.007314   \n",
       "52684  -0.120703 -0.273602 -1.123212  ...  0.236110  0.628802 -0.091465   \n",
       "19526  -0.334767  0.038423  0.507867  ... -0.070996 -0.028140 -0.025779   \n",
       "133227 -0.345737  0.187286 -1.189529  ... -0.145535  0.087219 -0.090135   \n",
       "97724   0.104332 -0.149754  0.177589  ... -0.049707 -0.274672 -0.039850   \n",
       "57781   0.527682  0.236328  1.215776  ...  0.338499  0.561425  0.200928   \n",
       "9482   -0.529329 -0.182664  3.002159  ...  0.046635  0.503079 -0.215438   \n",
       "131239 -1.100771  1.157203 -0.023955  ... -0.122548 -0.414695 -0.015070   \n",
       "\n",
       "             V24       V25       V26       V27       V28  Amount  Class  \n",
       "78546   0.564798  0.236132  0.339641 -0.259024 -0.094020   56.75      0  \n",
       "204466  0.870064 -0.854185 -0.035765 -0.069185 -0.039395    6.15      0  \n",
       "10394  -0.858960 -0.059452  0.684484  0.078900  0.049865    6.04      0  \n",
       "52684   0.432914  0.663511 -0.074217 -0.014544  0.001243   15.00      0  \n",
       "19526   0.619003  0.340827  1.023531 -0.069028 -0.006102   10.00      0  \n",
       "133227  0.058793 -0.469658  1.184513  0.084329  0.117679   33.70      0  \n",
       "97724   0.339798  0.464857 -0.466884  0.009838  0.034389   57.00      0  \n",
       "57781   0.339478  0.752751 -0.077980  0.163429  0.134157  225.63      0  \n",
       "9482    0.346511  0.606579 -0.578811  0.057062  0.043328   90.00      0  \n",
       "131239  0.993707  0.446488 -0.030981  0.039856  0.033860   28.67      0  \n",
       "\n",
       "[10 rows x 31 columns]"
      ]
     },
     "execution_count": 4,
     "metadata": {},
     "output_type": "execute_result"
    }
   ],
   "source": [
    "data_f.sample(10)"
   ]
  },
  {
   "cell_type": "code",
   "execution_count": 5,
   "id": "612bfa26",
   "metadata": {},
   "outputs": [
    {
     "data": {
      "text/plain": [
       "0    284315\n",
       "1       492\n",
       "Name: Class, dtype: int64"
      ]
     },
     "execution_count": 5,
     "metadata": {},
     "output_type": "execute_result"
    }
   ],
   "source": [
    "data_f['Class'].value_counts()"
   ]
  },
  {
   "cell_type": "code",
   "execution_count": 6,
   "id": "f30ebf86",
   "metadata": {},
   "outputs": [
    {
     "data": {
      "text/plain": [
       "0    0.998273\n",
       "1    0.001727\n",
       "Name: Class, dtype: float64"
      ]
     },
     "execution_count": 6,
     "metadata": {},
     "output_type": "execute_result"
    }
   ],
   "source": [
    "data_f['Class'].value_counts(normalize=True)"
   ]
  },
  {
   "cell_type": "markdown",
   "id": "0bd726de",
   "metadata": {},
   "source": [
    "**Note:Only 0.17% (492 out of 284,807) transactions are fraudulent.\n",
    "       That means the Number of fraudulent transactions = 492 or 172 per 100,000 transactions in the dataset.**"
   ]
  },
  {
   "cell_type": "code",
   "execution_count": 7,
   "id": "0f9d3999",
   "metadata": {},
   "outputs": [
    {
     "data": {
      "image/png": "[encoded data removed]",
      "text/plain": [
       "<Figure size 1080x1440 with 31 Axes>"
      ]
     },
     "metadata": {
      "needs_background": "light"
     },
     "output_type": "display_data"
    }
   ],
   "source": [
    "## Histograms\n",
    "fig = plt.figure(figsize=(15, 20))\n",
    "plt.suptitle('Histograms of Numerical Columns', fontsize=20)\n",
    "for i in range(data_f.shape[1]):\n",
    "    plt.subplot(8, 4, i + 1)\n",
    "    f = plt.gca()\n",
    "    f.set_title(data_f.columns.values[i])\n",
    "\n",
    "    vals = np.size(data_f.iloc[:, i].unique())\n",
    "    if vals >= 100:\n",
    "        vals = 100          # limit our bins to 100 maximum\n",
    "    \n",
    "    plt.hist(data_f.iloc[:, i], bins=vals, color='#3F5D7D')\n",
    "plt.tight_layout(rect=[0, 0.03, 1, 0.95])"
   ]
  },
  {
   "cell_type": "markdown",
   "id": "7024d06f",
   "metadata": {},
   "source": [
    "**Note: From the above plots, we can observe a large prevalence of Class 0 (non fraudulent).**"
   ]
  },
  {
   "cell_type": "code",
   "execution_count": 8,
   "id": "e1907af4",
   "metadata": {},
   "outputs": [
    {
     "data": {
      "image/png": "[encoded data removed]",
      "text/plain": [
       "<Figure size 1440x720 with 1 Axes>"
      ]
     },
     "metadata": {
      "needs_background": "light"
     },
     "output_type": "display_data"
    }
   ],
   "source": [
    "## Linear Correlation with Response Variable (Note: Models like RandomForest are not linear)\n",
    "data2_f = data_f.drop(columns = ['Class'])   # drop non numerical columns\n",
    "data2_f.corrwith(data_f.Class).plot.bar(\n",
    "        figsize = (20, 10), title = \"Correlation with Class Fraudulent or Not\", fontsize = 15,\n",
    "        rot = 45, grid = True)\n",
    "plt.show()"
   ]
  },
  {
   "cell_type": "markdown",
   "id": "378c5810",
   "metadata": {},
   "source": [
    "# 2: Data Pre-processing"
   ]
  },
  {
   "cell_type": "code",
   "execution_count": 3,
   "id": "99a5a385",
   "metadata": {},
   "outputs": [
    {
     "data": {
      "text/html": [
       "<div>\n",
       "<style scoped>\n",
       "    .dataframe tbody tr th:only-of-type {\n",
       "        vertical-align: middle;\n",
       "    }\n",
       "\n",
       "    .dataframe tbody tr th {\n",
       "        vertical-align: top;\n",
       "    }\n",
       "\n",
       "    .dataframe thead th {\n",
       "        text-align: right;\n",
       "    }\n",
       "</style>\n",
       "<table border=\"1\" class=\"dataframe\">\n",
       "  <thead>\n",
       "    <tr style=\"text-align: right;\">\n",
       "      <th></th>\n",
       "      <th>Time</th>\n",
       "      <th>V1</th>\n",
       "      <th>V2</th>\n",
       "      <th>V3</th>\n",
       "      <th>V4</th>\n",
       "      <th>V5</th>\n",
       "      <th>V6</th>\n",
       "      <th>V7</th>\n",
       "      <th>V8</th>\n",
       "      <th>V9</th>\n",
       "      <th>...</th>\n",
       "      <th>V21</th>\n",
       "      <th>V22</th>\n",
       "      <th>V23</th>\n",
       "      <th>V24</th>\n",
       "      <th>V25</th>\n",
       "      <th>V26</th>\n",
       "      <th>V27</th>\n",
       "      <th>V28</th>\n",
       "      <th>Class</th>\n",
       "      <th>normalizedAmount</th>\n",
       "    </tr>\n",
       "  </thead>\n",
       "  <tbody>\n",
       "    <tr>\n",
       "      <th>0</th>\n",
       "      <td>0.0</td>\n",
       "      <td>-1.359807</td>\n",
       "      <td>-0.072781</td>\n",
       "      <td>2.536347</td>\n",
       "      <td>1.378155</td>\n",
       "      <td>-0.338321</td>\n",
       "      <td>0.462388</td>\n",
       "      <td>0.239599</td>\n",
       "      <td>0.098698</td>\n",
       "      <td>0.363787</td>\n",
       "      <td>...</td>\n",
       "      <td>-0.018307</td>\n",
       "      <td>0.277838</td>\n",
       "      <td>-0.110474</td>\n",
       "      <td>0.066928</td>\n",
       "      <td>0.128539</td>\n",
       "      <td>-0.189115</td>\n",
       "      <td>0.133558</td>\n",
       "      <td>-0.021053</td>\n",
       "      <td>0</td>\n",
       "      <td>0.244964</td>\n",
       "    </tr>\n",
       "    <tr>\n",
       "      <th>1</th>\n",
       "      <td>0.0</td>\n",
       "      <td>1.191857</td>\n",
       "      <td>0.266151</td>\n",
       "      <td>0.166480</td>\n",
       "      <td>0.448154</td>\n",
       "      <td>0.060018</td>\n",
       "      <td>-0.082361</td>\n",
       "      <td>-0.078803</td>\n",
       "      <td>0.085102</td>\n",
       "      <td>-0.255425</td>\n",
       "      <td>...</td>\n",
       "      <td>-0.225775</td>\n",
       "      <td>-0.638672</td>\n",
       "      <td>0.101288</td>\n",
       "      <td>-0.339846</td>\n",
       "      <td>0.167170</td>\n",
       "      <td>0.125895</td>\n",
       "      <td>-0.008983</td>\n",
       "      <td>0.014724</td>\n",
       "      <td>0</td>\n",
       "      <td>-0.342475</td>\n",
       "    </tr>\n",
       "    <tr>\n",
       "      <th>2</th>\n",
       "      <td>1.0</td>\n",
       "      <td>-1.358354</td>\n",
       "      <td>-1.340163</td>\n",
       "      <td>1.773209</td>\n",
       "      <td>0.379780</td>\n",
       "      <td>-0.503198</td>\n",
       "      <td>1.800499</td>\n",
       "      <td>0.791461</td>\n",
       "      <td>0.247676</td>\n",
       "      <td>-1.514654</td>\n",
       "      <td>...</td>\n",
       "      <td>0.247998</td>\n",
       "      <td>0.771679</td>\n",
       "      <td>0.909412</td>\n",
       "      <td>-0.689281</td>\n",
       "      <td>-0.327642</td>\n",
       "      <td>-0.139097</td>\n",
       "      <td>-0.055353</td>\n",
       "      <td>-0.059752</td>\n",
       "      <td>0</td>\n",
       "      <td>1.160686</td>\n",
       "    </tr>\n",
       "    <tr>\n",
       "      <th>3</th>\n",
       "      <td>1.0</td>\n",
       "      <td>-0.966272</td>\n",
       "      <td>-0.185226</td>\n",
       "      <td>1.792993</td>\n",
       "      <td>-0.863291</td>\n",
       "      <td>-0.010309</td>\n",
       "      <td>1.247203</td>\n",
       "      <td>0.237609</td>\n",
       "      <td>0.377436</td>\n",
       "      <td>-1.387024</td>\n",
       "      <td>...</td>\n",
       "      <td>-0.108300</td>\n",
       "      <td>0.005274</td>\n",
       "      <td>-0.190321</td>\n",
       "      <td>-1.175575</td>\n",
       "      <td>0.647376</td>\n",
       "      <td>-0.221929</td>\n",
       "      <td>0.062723</td>\n",
       "      <td>0.061458</td>\n",
       "      <td>0</td>\n",
       "      <td>0.140534</td>\n",
       "    </tr>\n",
       "    <tr>\n",
       "      <th>4</th>\n",
       "      <td>2.0</td>\n",
       "      <td>-1.158233</td>\n",
       "      <td>0.877737</td>\n",
       "      <td>1.548718</td>\n",
       "      <td>0.403034</td>\n",
       "      <td>-0.407193</td>\n",
       "      <td>0.095921</td>\n",
       "      <td>0.592941</td>\n",
       "      <td>-0.270533</td>\n",
       "      <td>0.817739</td>\n",
       "      <td>...</td>\n",
       "      <td>-0.009431</td>\n",
       "      <td>0.798278</td>\n",
       "      <td>-0.137458</td>\n",
       "      <td>0.141267</td>\n",
       "      <td>-0.206010</td>\n",
       "      <td>0.502292</td>\n",
       "      <td>0.219422</td>\n",
       "      <td>0.215153</td>\n",
       "      <td>0</td>\n",
       "      <td>-0.073403</td>\n",
       "    </tr>\n",
       "  </tbody>\n",
       "</table>\n",
       "<p>5 rows × 31 columns</p>\n",
       "</div>"
      ],
      "text/plain": [
       "   Time        V1        V2        V3        V4        V5        V6        V7  \\\n",
       "0   0.0 -1.359807 -0.072781  2.536347  1.378155 -0.338321  0.462388  0.239599   \n",
       "1   0.0  1.191857  0.266151  0.166480  0.448154  0.060018 -0.082361 -0.078803   \n",
       "2   1.0 -1.358354 -1.340163  1.773209  0.379780 -0.503198  1.800499  0.791461   \n",
       "3   1.0 -0.966272 -0.185226  1.792993 -0.863291 -0.010309  1.247203  0.237609   \n",
       "4   2.0 -1.158233  0.877737  1.548718  0.403034 -0.407193  0.095921  0.592941   \n",
       "\n",
       "         V8        V9  ...       V21       V22       V23       V24       V25  \\\n",
       "0  0.098698  0.363787  ... -0.018307  0.277838 -0.110474  0.066928  0.128539   \n",
       "1  0.085102 -0.255425  ... -0.225775 -0.638672  0.101288 -0.339846  0.167170   \n",
       "2  0.247676 -1.514654  ...  0.247998  0.771679  0.909412 -0.689281 -0.327642   \n",
       "3  0.377436 -1.387024  ... -0.108300  0.005274 -0.190321 -1.175575  0.647376   \n",
       "4 -0.270533  0.817739  ... -0.009431  0.798278 -0.137458  0.141267 -0.206010   \n",
       "\n",
       "        V26       V27       V28  Class  normalizedAmount  \n",
       "0 -0.189115  0.133558 -0.021053      0          0.244964  \n",
       "1  0.125895 -0.008983  0.014724      0         -0.342475  \n",
       "2 -0.139097 -0.055353 -0.059752      0          1.160686  \n",
       "3 -0.221929  0.062723  0.061458      0          0.140534  \n",
       "4  0.502292  0.219422  0.215153      0         -0.073403  \n",
       "\n",
       "[5 rows x 31 columns]"
      ]
     },
     "execution_count": 3,
     "metadata": {},
     "output_type": "execute_result"
    }
   ],
   "source": [
    "data_f['normalizedAmount'] = StandardScaler().fit_transform(data_f['Amount'].values.reshape(-1,1))  # Normalize 'Amount' in [-1,+1] range\n",
    "data_f = data_f.drop(['Amount'],axis=1)\n",
    "data_f.head()"
   ]
  },
  {
   "cell_type": "code",
   "execution_count": 4,
   "id": "f372add8",
   "metadata": {},
   "outputs": [
    {
     "data": {
      "text/html": [
       "<div>\n",
       "<style scoped>\n",
       "    .dataframe tbody tr th:only-of-type {\n",
       "        vertical-align: middle;\n",
       "    }\n",
       "\n",
       "    .dataframe tbody tr th {\n",
       "        vertical-align: top;\n",
       "    }\n",
       "\n",
       "    .dataframe thead th {\n",
       "        text-align: right;\n",
       "    }\n",
       "</style>\n",
       "<table border=\"1\" class=\"dataframe\">\n",
       "  <thead>\n",
       "    <tr style=\"text-align: right;\">\n",
       "      <th></th>\n",
       "      <th>V1</th>\n",
       "      <th>V2</th>\n",
       "      <th>V3</th>\n",
       "      <th>V4</th>\n",
       "      <th>V5</th>\n",
       "      <th>V6</th>\n",
       "      <th>V7</th>\n",
       "      <th>V8</th>\n",
       "      <th>V9</th>\n",
       "      <th>V10</th>\n",
       "      <th>...</th>\n",
       "      <th>V21</th>\n",
       "      <th>V22</th>\n",
       "      <th>V23</th>\n",
       "      <th>V24</th>\n",
       "      <th>V25</th>\n",
       "      <th>V26</th>\n",
       "      <th>V27</th>\n",
       "      <th>V28</th>\n",
       "      <th>Class</th>\n",
       "      <th>normalizedAmount</th>\n",
       "    </tr>\n",
       "  </thead>\n",
       "  <tbody>\n",
       "    <tr>\n",
       "      <th>0</th>\n",
       "      <td>-1.359807</td>\n",
       "      <td>-0.072781</td>\n",
       "      <td>2.536347</td>\n",
       "      <td>1.378155</td>\n",
       "      <td>-0.338321</td>\n",
       "      <td>0.462388</td>\n",
       "      <td>0.239599</td>\n",
       "      <td>0.098698</td>\n",
       "      <td>0.363787</td>\n",
       "      <td>0.090794</td>\n",
       "      <td>...</td>\n",
       "      <td>-0.018307</td>\n",
       "      <td>0.277838</td>\n",
       "      <td>-0.110474</td>\n",
       "      <td>0.066928</td>\n",
       "      <td>0.128539</td>\n",
       "      <td>-0.189115</td>\n",
       "      <td>0.133558</td>\n",
       "      <td>-0.021053</td>\n",
       "      <td>0</td>\n",
       "      <td>0.244964</td>\n",
       "    </tr>\n",
       "    <tr>\n",
       "      <th>1</th>\n",
       "      <td>1.191857</td>\n",
       "      <td>0.266151</td>\n",
       "      <td>0.166480</td>\n",
       "      <td>0.448154</td>\n",
       "      <td>0.060018</td>\n",
       "      <td>-0.082361</td>\n",
       "      <td>-0.078803</td>\n",
       "      <td>0.085102</td>\n",
       "      <td>-0.255425</td>\n",
       "      <td>-0.166974</td>\n",
       "      <td>...</td>\n",
       "      <td>-0.225775</td>\n",
       "      <td>-0.638672</td>\n",
       "      <td>0.101288</td>\n",
       "      <td>-0.339846</td>\n",
       "      <td>0.167170</td>\n",
       "      <td>0.125895</td>\n",
       "      <td>-0.008983</td>\n",
       "      <td>0.014724</td>\n",
       "      <td>0</td>\n",
       "      <td>-0.342475</td>\n",
       "    </tr>\n",
       "    <tr>\n",
       "      <th>2</th>\n",
       "      <td>-1.358354</td>\n",
       "      <td>-1.340163</td>\n",
       "      <td>1.773209</td>\n",
       "      <td>0.379780</td>\n",
       "      <td>-0.503198</td>\n",
       "      <td>1.800499</td>\n",
       "      <td>0.791461</td>\n",
       "      <td>0.247676</td>\n",
       "      <td>-1.514654</td>\n",
       "      <td>0.207643</td>\n",
       "      <td>...</td>\n",
       "      <td>0.247998</td>\n",
       "      <td>0.771679</td>\n",
       "      <td>0.909412</td>\n",
       "      <td>-0.689281</td>\n",
       "      <td>-0.327642</td>\n",
       "      <td>-0.139097</td>\n",
       "      <td>-0.055353</td>\n",
       "      <td>-0.059752</td>\n",
       "      <td>0</td>\n",
       "      <td>1.160686</td>\n",
       "    </tr>\n",
       "    <tr>\n",
       "      <th>3</th>\n",
       "      <td>-0.966272</td>\n",
       "      <td>-0.185226</td>\n",
       "      <td>1.792993</td>\n",
       "      <td>-0.863291</td>\n",
       "      <td>-0.010309</td>\n",
       "      <td>1.247203</td>\n",
       "      <td>0.237609</td>\n",
       "      <td>0.377436</td>\n",
       "      <td>-1.387024</td>\n",
       "      <td>-0.054952</td>\n",
       "      <td>...</td>\n",
       "      <td>-0.108300</td>\n",
       "      <td>0.005274</td>\n",
       "      <td>-0.190321</td>\n",
       "      <td>-1.175575</td>\n",
       "      <td>0.647376</td>\n",
       "      <td>-0.221929</td>\n",
       "      <td>0.062723</td>\n",
       "      <td>0.061458</td>\n",
       "      <td>0</td>\n",
       "      <td>0.140534</td>\n",
       "    </tr>\n",
       "    <tr>\n",
       "      <th>4</th>\n",
       "      <td>-1.158233</td>\n",
       "      <td>0.877737</td>\n",
       "      <td>1.548718</td>\n",
       "      <td>0.403034</td>\n",
       "      <td>-0.407193</td>\n",
       "      <td>0.095921</td>\n",
       "      <td>0.592941</td>\n",
       "      <td>-0.270533</td>\n",
       "      <td>0.817739</td>\n",
       "      <td>0.753074</td>\n",
       "      <td>...</td>\n",
       "      <td>-0.009431</td>\n",
       "      <td>0.798278</td>\n",
       "      <td>-0.137458</td>\n",
       "      <td>0.141267</td>\n",
       "      <td>-0.206010</td>\n",
       "      <td>0.502292</td>\n",
       "      <td>0.219422</td>\n",
       "      <td>0.215153</td>\n",
       "      <td>0</td>\n",
       "      <td>-0.073403</td>\n",
       "    </tr>\n",
       "  </tbody>\n",
       "</table>\n",
       "<p>5 rows × 30 columns</p>\n",
       "</div>"
      ],
      "text/plain": [
       "         V1        V2        V3        V4        V5        V6        V7  \\\n",
       "0 -1.359807 -0.072781  2.536347  1.378155 -0.338321  0.462388  0.239599   \n",
       "1  1.191857  0.266151  0.166480  0.448154  0.060018 -0.082361 -0.078803   \n",
       "2 -1.358354 -1.340163  1.773209  0.379780 -0.503198  1.800499  0.791461   \n",
       "3 -0.966272 -0.185226  1.792993 -0.863291 -0.010309  1.247203  0.237609   \n",
       "4 -1.158233  0.877737  1.548718  0.403034 -0.407193  0.095921  0.592941   \n",
       "\n",
       "         V8        V9       V10  ...       V21       V22       V23       V24  \\\n",
       "0  0.098698  0.363787  0.090794  ... -0.018307  0.277838 -0.110474  0.066928   \n",
       "1  0.085102 -0.255425 -0.166974  ... -0.225775 -0.638672  0.101288 -0.339846   \n",
       "2  0.247676 -1.514654  0.207643  ...  0.247998  0.771679  0.909412 -0.689281   \n",
       "3  0.377436 -1.387024 -0.054952  ... -0.108300  0.005274 -0.190321 -1.175575   \n",
       "4 -0.270533  0.817739  0.753074  ... -0.009431  0.798278 -0.137458  0.141267   \n",
       "\n",
       "        V25       V26       V27       V28  Class  normalizedAmount  \n",
       "0  0.128539 -0.189115  0.133558 -0.021053      0          0.244964  \n",
       "1  0.167170  0.125895 -0.008983  0.014724      0         -0.342475  \n",
       "2 -0.327642 -0.139097 -0.055353 -0.059752      0          1.160686  \n",
       "3  0.647376 -0.221929  0.062723  0.061458      0          0.140534  \n",
       "4 -0.206010  0.502292  0.219422  0.215153      0         -0.073403  \n",
       "\n",
       "[5 rows x 30 columns]"
      ]
     },
     "execution_count": 4,
     "metadata": {},
     "output_type": "execute_result"
    }
   ],
   "source": [
    "data_f = data_f.drop(['Time'],axis=1)\n",
    "data_f.head()"
   ]
  },
  {
   "cell_type": "markdown",
   "id": "08c80285",
   "metadata": {},
   "source": [
    "**Note: Data is in normalized form to do the further evaluations.**"
   ]
  },
  {
   "cell_type": "markdown",
   "id": "3e4d7da2",
   "metadata": {},
   "source": [
    "# 3: Train / Test Split"
   ]
  },
  {
   "cell_type": "markdown",
   "id": "269f7b5b",
   "metadata": {},
   "source": [
    "**Note:- Before we begin preprocessing, we split off a test data set. First split the data into features and response variable:**"
   ]
  },
  {
   "cell_type": "code",
   "execution_count": 5,
   "id": "9b1899f0",
   "metadata": {},
   "outputs": [],
   "source": [
    "X = data_f.iloc[:, data_f.columns != 'Class']\n",
    "y = data_f.iloc[:, data_f.columns == 'Class']  # Response variable determining if fraudulent or not"
   ]
  },
  {
   "cell_type": "markdown",
   "id": "f202fdb0",
   "metadata": {},
   "source": [
    "We'll use a test size of 30%. We also stratify the split on the response variable, \n",
    "which is very important to do because there are so few fraudulent transactions."
   ]
  },
  {
   "cell_type": "code",
   "execution_count": 12,
   "id": "86213a16",
   "metadata": {},
   "outputs": [],
   "source": [
    "X_train, X_test, y_train, y_test = train_test_split(X,y, test_size = 0.3, random_state=0)"
   ]
  },
  {
   "cell_type": "code",
   "execution_count": 13,
   "id": "bd53734d",
   "metadata": {},
   "outputs": [
    {
     "data": {
      "text/plain": [
       "(199364, 29)"
      ]
     },
     "execution_count": 13,
     "metadata": {},
     "output_type": "execute_result"
    }
   ],
   "source": [
    "X_train.shape"
   ]
  },
  {
   "cell_type": "code",
   "execution_count": 14,
   "id": "d0262d38",
   "metadata": {},
   "outputs": [
    {
     "data": {
      "text/plain": [
       "(85443, 29)"
      ]
     },
     "execution_count": 14,
     "metadata": {},
     "output_type": "execute_result"
    }
   ],
   "source": [
    "X_test.shape"
   ]
  },
  {
   "cell_type": "markdown",
   "id": "c2b3a0b4",
   "metadata": {},
   "source": [
    "# 4: Data Modeling"
   ]
  },
  {
   "cell_type": "markdown",
   "id": "1d6fe984",
   "metadata": {},
   "source": [
    "Now we're ready to build machine learning models to predict whether a transaction is fraudulent. \n",
    "We'll train the following models:\n",
    "\n",
    "**a: K-Nearest Neighbors.**\n",
    "\n",
    "**b: Decision Tree.**\n",
    "\n",
    "**c: Support Vector Machine.**\n",
    "\n",
    "**d: Logistic Regression.**\n",
    "\n",
    "**e: Naive Bayes.**\n",
    "\n",
    "**f: Random Forest.**\n",
    "\n",
    "**g:Neural Network Model.**\n"
   ]
  },
  {
   "cell_type": "code",
   "execution_count": 15,
   "id": "8215ae96",
   "metadata": {},
   "outputs": [],
   "source": [
    "# Approach to plot confusion matrix (from scikit-learn.org site)\n",
    "\n",
    "def plot_confusion_matrix(cm, classes,\n",
    "                          normalize=False,\n",
    "                          title='Confusion matrix',\n",
    "                          cmap=plt.cm.Blues):\n",
    "    \"\"\"\n",
    "    This function prints and plots the confusion matrix.\n",
    "    Normalization can be applied by setting `normalize=True`.\n",
    "    \"\"\"\n",
    "    if normalize:\n",
    "        cm = cm.astype('float') / cm.sum(axis=1)[:, np.newaxis]\n",
    "        print(\"Normalized confusion matrix\")\n",
    "    else:\n",
    "        print('Confusion matrix, without normalization')\n",
    "\n",
    "    print(cm)\n",
    "\n",
    "    plt.imshow(cm, interpolation='nearest', cmap=cmap)\n",
    "    plt.title(title)\n",
    "    plt.colorbar()\n",
    "    tick_marks = np.arange(len(classes))\n",
    "    plt.xticks(tick_marks, classes, rotation=45)\n",
    "    plt.yticks(tick_marks, classes)\n",
    "\n",
    "    fmt = '.2f' if normalize else 'd'\n",
    "    thresh = cm.max() / 2.\n",
    "    for i, j in itertools.product(range(cm.shape[0]), range(cm.shape[1])):\n",
    "        plt.text(j, i, format(cm[i, j], fmt),\n",
    "                 horizontalalignment=\"center\",\n",
    "                 color=\"white\" if cm[i, j] > thresh else \"black\")\n",
    "\n",
    "    plt.ylabel('True label')\n",
    "    plt.xlabel('Predicted label')\n",
    "    plt.tight_layout()"
   ]
  },
  {
   "cell_type": "markdown",
   "id": "0bcab7de",
   "metadata": {},
   "source": [
    "**a: K-Nearest Neighbors**"
   ]
  },
  {
   "cell_type": "code",
   "execution_count": 16,
   "id": "bc3dad8b",
   "metadata": {},
   "outputs": [],
   "source": [
    "knn = KNeighborsClassifier()"
   ]
  },
  {
   "cell_type": "code",
   "execution_count": 17,
   "id": "177ba503",
   "metadata": {},
   "outputs": [
    {
     "data": {
      "text/plain": [
       "KNeighborsClassifier()"
      ]
     },
     "execution_count": 17,
     "metadata": {},
     "output_type": "execute_result"
    }
   ],
   "source": [
    "knn.fit(X_train,y_train.values.ravel())"
   ]
  },
  {
   "cell_type": "code",
   "execution_count": 18,
   "id": "15fdd839",
   "metadata": {},
   "outputs": [],
   "source": [
    "y_pred = knn.predict(X_test)"
   ]
  },
  {
   "cell_type": "code",
   "execution_count": 21,
   "id": "344fe6be",
   "metadata": {},
   "outputs": [
    {
     "data": {
      "text/plain": [
       "0.9994382219725431"
      ]
     },
     "execution_count": 21,
     "metadata": {},
     "output_type": "execute_result"
    }
   ],
   "source": [
    "knn.score(X_test,y_test)\n"
   ]
  },
  {
   "cell_type": "code",
   "execution_count": 22,
   "id": "7454e8c7",
   "metadata": {},
   "outputs": [
    {
     "name": "stdout",
     "output_type": "stream",
     "text": [
      "Confusion matrix, without normalization\n",
      "[[85289     7]\n",
      " [   41   106]]\n"
     ]
    },
    {
     "data": {
      "image/png": "[encoded data removed]",
      "text/plain": [
       "<Figure size 432x288 with 2 Axes>"
      ]
     },
     "metadata": {
      "needs_background": "light"
     },
     "output_type": "display_data"
    }
   ],
   "source": [
    "# Confusion matrix on the test dataset\n",
    "cnf_matrix = confusion_matrix(y_test,y_pred)\n",
    "plot_confusion_matrix(cnf_matrix,classes=[0,1])"
   ]
  },
  {
   "cell_type": "markdown",
   "id": "31ea838d",
   "metadata": {},
   "source": [
    "while only 7 regular transactions are wrongly predicted as fraudulent, the model only detects 80% of the fraudulent transactions. As a consequence 41 fraudulent transactions are not detected (False Negatives).\n",
    "Let's see if we can improve this performance with other machine learning models in the rest of the notebook."
   ]
  },
  {
   "cell_type": "code",
   "execution_count": 23,
   "id": "da089423",
   "metadata": {},
   "outputs": [
    {
     "name": "stdout",
     "output_type": "stream",
     "text": [
      "accuracy:0.9994 \tprecision:0.9381 \trecall:0.7211 \tF1-score:0.8154\n"
     ]
    }
   ],
   "source": [
    "acc = accuracy_score(y_test, y_pred)\n",
    "prec = precision_score(y_test, y_pred)\n",
    "rec = recall_score(y_test, y_pred)\n",
    "f1 = f1_score(y_test, y_pred)\n",
    "print('accuracy:%0.4f'%acc,'\\tprecision:%0.4f'%prec,'\\trecall:%0.4f'%rec,'\\tF1-score:%0.4f'%f1)"
   ]
  },
  {
   "cell_type": "code",
   "execution_count": 24,
   "id": "ca2f826c",
   "metadata": {},
   "outputs": [
    {
     "data": {
      "text/html": [
       "<div>\n",
       "<style scoped>\n",
       "    .dataframe tbody tr th:only-of-type {\n",
       "        vertical-align: middle;\n",
       "    }\n",
       "\n",
       "    .dataframe tbody tr th {\n",
       "        vertical-align: top;\n",
       "    }\n",
       "\n",
       "    .dataframe thead th {\n",
       "        text-align: right;\n",
       "    }\n",
       "</style>\n",
       "<table border=\"1\" class=\"dataframe\">\n",
       "  <thead>\n",
       "    <tr style=\"text-align: right;\">\n",
       "      <th></th>\n",
       "      <th>Model</th>\n",
       "      <th>Accuracy</th>\n",
       "      <th>FalseNegRate</th>\n",
       "      <th>Recall</th>\n",
       "      <th>Precision</th>\n",
       "      <th>F1 Score</th>\n",
       "    </tr>\n",
       "  </thead>\n",
       "  <tbody>\n",
       "    <tr>\n",
       "      <th>0</th>\n",
       "      <td>KNN</td>\n",
       "      <td>0.999438</td>\n",
       "      <td>0.278912</td>\n",
       "      <td>0.721088</td>\n",
       "      <td>0.938053</td>\n",
       "      <td>0.815385</td>\n",
       "    </tr>\n",
       "  </tbody>\n",
       "</table>\n",
       "</div>"
      ],
      "text/plain": [
       "   Model  Accuracy  FalseNegRate    Recall  Precision  F1 Score\n",
       "0  KNN    0.999438      0.278912  0.721088   0.938053  0.815385"
      ]
     },
     "execution_count": 24,
     "metadata": {},
     "output_type": "execute_result"
    }
   ],
   "source": [
    "### Store results in dataframe for comparing various Models\n",
    "results_testset = pd.DataFrame([['KNN  ', acc, 1-rec, rec, prec, f1]],\n",
    "               columns = ['Model', 'Accuracy', 'FalseNegRate', 'Recall', 'Precision', 'F1 Score'])\n",
    "results_testset"
   ]
  },
  {
   "cell_type": "code",
   "execution_count": 25,
   "id": "fc3d2336",
   "metadata": {},
   "outputs": [
    {
     "data": {
      "image/png": "[encoded data removed]",
      "text/plain": [
       "<Figure size 432x288 with 1 Axes>"
      ]
     },
     "metadata": {
      "needs_background": "light"
     },
     "output_type": "display_data"
    }
   ],
   "source": [
    "ROC_DT = plot_roc_curve(knn, X_test, y_test)\n",
    "plt.show()"
   ]
  },
  {
   "cell_type": "markdown",
   "id": "cf2c9ac9",
   "metadata": {},
   "source": [
    "**b: Decision Tree**"
   ]
  },
  {
   "cell_type": "code",
   "execution_count": 26,
   "id": "d1170f09",
   "metadata": {},
   "outputs": [],
   "source": [
    "decision_tree = DecisionTreeClassifier()"
   ]
  },
  {
   "cell_type": "code",
   "execution_count": 27,
   "id": "74605c58",
   "metadata": {},
   "outputs": [
    {
     "data": {
      "text/plain": [
       "DecisionTreeClassifier()"
      ]
     },
     "execution_count": 27,
     "metadata": {},
     "output_type": "execute_result"
    }
   ],
   "source": [
    "decision_tree.fit(X_train,y_train.values.ravel())"
   ]
  },
  {
   "cell_type": "code",
   "execution_count": 28,
   "id": "4f6ad022",
   "metadata": {},
   "outputs": [],
   "source": [
    "y_pred = decision_tree.predict(X_test)"
   ]
  },
  {
   "cell_type": "code",
   "execution_count": 29,
   "id": "cc55cf87",
   "metadata": {},
   "outputs": [
    {
     "name": "stdout",
     "output_type": "stream",
     "text": [
      "0.9993211848834895\n"
     ]
    }
   ],
   "source": [
    "decision_tree.score(X_test,y_test)"
   ]
  },
  {
   "cell_type": "code",
   "execution_count": 30,
   "id": "6a757d77",
   "metadata": {},
   "outputs": [
    {
     "name": "stdout",
     "output_type": "stream",
     "text": [
      "Confusion matrix, without normalization\n",
      "[[85271    25]\n",
      " [   33   114]]\n"
     ]
    },
    {
     "data": {
      "image/png": "[encoded data removed]",
      "text/plain": [
       "<Figure size 432x288 with 2 Axes>"
      ]
     },
     "metadata": {
      "needs_background": "light"
     },
     "output_type": "display_data"
    }
   ],
   "source": [
    "# Confusion matrix on the test dataset\n",
    "cnf_matrix = confusion_matrix(y_test,y_pred)\n",
    "plot_confusion_matrix(cnf_matrix,classes=[0,1])"
   ]
  },
  {
   "cell_type": "code",
   "execution_count": 31,
   "id": "7175f0ac",
   "metadata": {},
   "outputs": [],
   "source": [
    "acc = accuracy_score(y_test, y_pred)\n",
    "prec = precision_score(y_test, y_pred)\n",
    "rec = recall_score(y_test, y_pred)\n",
    "f1 = f1_score(y_test, y_pred)"
   ]
  },
  {
   "cell_type": "code",
   "execution_count": 32,
   "id": "25d92eb7",
   "metadata": {},
   "outputs": [
    {
     "data": {
      "text/html": [
       "<div>\n",
       "<style scoped>\n",
       "    .dataframe tbody tr th:only-of-type {\n",
       "        vertical-align: middle;\n",
       "    }\n",
       "\n",
       "    .dataframe tbody tr th {\n",
       "        vertical-align: top;\n",
       "    }\n",
       "\n",
       "    .dataframe thead th {\n",
       "        text-align: right;\n",
       "    }\n",
       "</style>\n",
       "<table border=\"1\" class=\"dataframe\">\n",
       "  <thead>\n",
       "    <tr style=\"text-align: right;\">\n",
       "      <th></th>\n",
       "      <th>Model</th>\n",
       "      <th>Accuracy</th>\n",
       "      <th>FalseNegRate</th>\n",
       "      <th>Recall</th>\n",
       "      <th>Precision</th>\n",
       "      <th>F1 Score</th>\n",
       "    </tr>\n",
       "  </thead>\n",
       "  <tbody>\n",
       "    <tr>\n",
       "      <th>0</th>\n",
       "      <td>KNN</td>\n",
       "      <td>0.999438</td>\n",
       "      <td>0.278912</td>\n",
       "      <td>0.721088</td>\n",
       "      <td>0.938053</td>\n",
       "      <td>0.815385</td>\n",
       "    </tr>\n",
       "    <tr>\n",
       "      <th>1</th>\n",
       "      <td>DecisionTree</td>\n",
       "      <td>0.999321</td>\n",
       "      <td>0.224490</td>\n",
       "      <td>0.775510</td>\n",
       "      <td>0.820144</td>\n",
       "      <td>0.797203</td>\n",
       "    </tr>\n",
       "  </tbody>\n",
       "</table>\n",
       "</div>"
      ],
      "text/plain": [
       "          Model  Accuracy  FalseNegRate    Recall  Precision  F1 Score\n",
       "0         KNN    0.999438      0.278912  0.721088   0.938053  0.815385\n",
       "1  DecisionTree  0.999321      0.224490  0.775510   0.820144  0.797203"
      ]
     },
     "execution_count": 32,
     "metadata": {},
     "output_type": "execute_result"
    }
   ],
   "source": [
    "### Store results in dataframe for comparing various Models\n",
    "model_results = pd.DataFrame([['DecisionTree', acc, 1-rec, rec, prec, f1]],\n",
    "               columns = ['Model', 'Accuracy', 'FalseNegRate', 'Recall', 'Precision', 'F1 Score'])\n",
    "results_testset = results_testset.append(model_results, ignore_index = True)\n",
    "results_testset"
   ]
  },
  {
   "cell_type": "code",
   "execution_count": 33,
   "id": "a230fbd7",
   "metadata": {},
   "outputs": [
    {
     "data": {
      "image/png": "[encoded data removed]",
      "text/plain": [
       "<Figure size 432x288 with 1 Axes>"
      ]
     },
     "metadata": {
      "needs_background": "light"
     },
     "output_type": "display_data"
    }
   ],
   "source": [
    "ROC_DT = plot_roc_curve(decision_tree, X_test, y_test)\n",
    "plt.show()"
   ]
  },
  {
   "cell_type": "markdown",
   "id": "24325f17",
   "metadata": {},
   "source": [
    "**c: Support Vector Machine**"
   ]
  },
  {
   "cell_type": "code",
   "execution_count": 34,
   "id": "5ee30c8a",
   "metadata": {},
   "outputs": [],
   "source": [
    "svm_clf = SVC()"
   ]
  },
  {
   "cell_type": "code",
   "execution_count": 35,
   "id": "79edf3c6",
   "metadata": {},
   "outputs": [
    {
     "data": {
      "text/plain": [
       "SVC()"
      ]
     },
     "execution_count": 35,
     "metadata": {},
     "output_type": "execute_result"
    }
   ],
   "source": [
    "svm_clf.fit(X_train,y_train.values.ravel())"
   ]
  },
  {
   "cell_type": "code",
   "execution_count": 36,
   "id": "f2d15170",
   "metadata": {},
   "outputs": [],
   "source": [
    "y_pred = svm_clf.predict(X_test)"
   ]
  },
  {
   "cell_type": "code",
   "execution_count": 37,
   "id": "3355b5ec",
   "metadata": {},
   "outputs": [
    {
     "name": "stdout",
     "output_type": "stream",
     "text": [
      "0.9993445923013002\n"
     ]
    }
   ],
   "source": [
    "svm_clf.score(X_test,y_test)"
   ]
  },
  {
   "cell_type": "code",
   "execution_count": 38,
   "id": "f41e27bc",
   "metadata": {},
   "outputs": [
    {
     "name": "stdout",
     "output_type": "stream",
     "text": [
      "Confusion matrix, without normalization\n",
      "[[85291     5]\n",
      " [   51    96]]\n"
     ]
    },
    {
     "data": {
      "image/png": "[encoded data removed]",
      "text/plain": [
       "<Figure size 432x288 with 2 Axes>"
      ]
     },
     "metadata": {
      "needs_background": "light"
     },
     "output_type": "display_data"
    }
   ],
   "source": [
    "# Confusion matrix on the test dataset\n",
    "cnf_matrix = confusion_matrix(y_test,y_pred)\n",
    "plot_confusion_matrix(cnf_matrix,classes=[0,1])"
   ]
  },
  {
   "cell_type": "code",
   "execution_count": 39,
   "id": "65be829c",
   "metadata": {},
   "outputs": [],
   "source": [
    "acc = accuracy_score(y_test, y_pred)\n",
    "prec = precision_score(y_test, y_pred)\n",
    "rec = recall_score(y_test, y_pred)\n",
    "f1 = f1_score(y_test, y_pred)"
   ]
  },
  {
   "cell_type": "code",
   "execution_count": 40,
   "id": "5abf06cb",
   "metadata": {},
   "outputs": [
    {
     "data": {
      "text/html": [
       "<div>\n",
       "<style scoped>\n",
       "    .dataframe tbody tr th:only-of-type {\n",
       "        vertical-align: middle;\n",
       "    }\n",
       "\n",
       "    .dataframe tbody tr th {\n",
       "        vertical-align: top;\n",
       "    }\n",
       "\n",
       "    .dataframe thead th {\n",
       "        text-align: right;\n",
       "    }\n",
       "</style>\n",
       "<table border=\"1\" class=\"dataframe\">\n",
       "  <thead>\n",
       "    <tr style=\"text-align: right;\">\n",
       "      <th></th>\n",
       "      <th>Model</th>\n",
       "      <th>Accuracy</th>\n",
       "      <th>FalseNegRate</th>\n",
       "      <th>Recall</th>\n",
       "      <th>Precision</th>\n",
       "      <th>F1 Score</th>\n",
       "    </tr>\n",
       "  </thead>\n",
       "  <tbody>\n",
       "    <tr>\n",
       "      <th>0</th>\n",
       "      <td>KNN</td>\n",
       "      <td>0.999438</td>\n",
       "      <td>0.278912</td>\n",
       "      <td>0.721088</td>\n",
       "      <td>0.938053</td>\n",
       "      <td>0.815385</td>\n",
       "    </tr>\n",
       "    <tr>\n",
       "      <th>1</th>\n",
       "      <td>DecisionTree</td>\n",
       "      <td>0.999321</td>\n",
       "      <td>0.224490</td>\n",
       "      <td>0.775510</td>\n",
       "      <td>0.820144</td>\n",
       "      <td>0.797203</td>\n",
       "    </tr>\n",
       "    <tr>\n",
       "      <th>2</th>\n",
       "      <td>SVM</td>\n",
       "      <td>0.999345</td>\n",
       "      <td>0.346939</td>\n",
       "      <td>0.653061</td>\n",
       "      <td>0.950495</td>\n",
       "      <td>0.774194</td>\n",
       "    </tr>\n",
       "  </tbody>\n",
       "</table>\n",
       "</div>"
      ],
      "text/plain": [
       "          Model  Accuracy  FalseNegRate    Recall  Precision  F1 Score\n",
       "0         KNN    0.999438      0.278912  0.721088   0.938053  0.815385\n",
       "1  DecisionTree  0.999321      0.224490  0.775510   0.820144  0.797203\n",
       "2         SVM    0.999345      0.346939  0.653061   0.950495  0.774194"
      ]
     },
     "execution_count": 40,
     "metadata": {},
     "output_type": "execute_result"
    }
   ],
   "source": [
    "### Store results in dataframe for comparing various Models\n",
    "model_results = pd.DataFrame([['SVM  ', acc, 1-rec, rec, prec, f1]],\n",
    "               columns = ['Model', 'Accuracy', 'FalseNegRate', 'Recall', 'Precision', 'F1 Score'])\n",
    "results_testset = results_testset.append(model_results, ignore_index = True)\n",
    "results_testset"
   ]
  },
  {
   "cell_type": "code",
   "execution_count": 41,
   "id": "1bacf602",
   "metadata": {},
   "outputs": [
    {
     "data": {
      "image/png": "[encoded data removed]",
      "text/plain": [
       "<Figure size 432x288 with 1 Axes>"
      ]
     },
     "metadata": {
      "needs_background": "light"
     },
     "output_type": "display_data"
    }
   ],
   "source": [
    "ROC_DT = plot_roc_curve(svm_clf, X_test, y_test)\n",
    "plt.show()"
   ]
  },
  {
   "cell_type": "markdown",
   "id": "59694e5c",
   "metadata": {},
   "source": [
    "**d: Logistic Regression** "
   ]
  },
  {
   "cell_type": "code",
   "execution_count": 42,
   "id": "cb5f00a7",
   "metadata": {},
   "outputs": [],
   "source": [
    "lr_clf = LogisticRegression()"
   ]
  },
  {
   "cell_type": "code",
   "execution_count": 43,
   "id": "633abe65",
   "metadata": {},
   "outputs": [
    {
     "data": {
      "text/plain": [
       "LogisticRegression()"
      ]
     },
     "execution_count": 43,
     "metadata": {},
     "output_type": "execute_result"
    }
   ],
   "source": [
    "lr_clf.fit(X_train,y_train.values.ravel())"
   ]
  },
  {
   "cell_type": "code",
   "execution_count": 44,
   "id": "b1a777b4",
   "metadata": {},
   "outputs": [],
   "source": [
    "y_pred = lr_clf.predict(X_test)"
   ]
  },
  {
   "cell_type": "code",
   "execution_count": 45,
   "id": "7960f4da",
   "metadata": {},
   "outputs": [
    {
     "name": "stdout",
     "output_type": "stream",
     "text": [
      "0.999204147794436\n"
     ]
    }
   ],
   "source": [
    "lr_clf.score(X_test,y_test)"
   ]
  },
  {
   "cell_type": "code",
   "execution_count": 46,
   "id": "8fcde9b2",
   "metadata": {},
   "outputs": [
    {
     "name": "stdout",
     "output_type": "stream",
     "text": [
      "Confusion matrix, without normalization\n",
      "[[85284    12]\n",
      " [   56    91]]\n"
     ]
    },
    {
     "data": {
      "image/png": "[encoded data removed]",
      "text/plain": [
       "<Figure size 432x288 with 2 Axes>"
      ]
     },
     "metadata": {
      "needs_background": "light"
     },
     "output_type": "display_data"
    }
   ],
   "source": [
    "# Confusion matrix on the test dataset\n",
    "cnf_matrix = confusion_matrix(y_test,y_pred)\n",
    "plot_confusion_matrix(cnf_matrix,classes=[0,1])"
   ]
  },
  {
   "cell_type": "code",
   "execution_count": 47,
   "id": "5e654182",
   "metadata": {},
   "outputs": [],
   "source": [
    "acc = accuracy_score(y_test, y_pred)\n",
    "prec = precision_score(y_test, y_pred)\n",
    "rec = recall_score(y_test, y_pred)\n",
    "f1 = f1_score(y_test, y_pred)"
   ]
  },
  {
   "cell_type": "code",
   "execution_count": 48,
   "id": "5496f3d4",
   "metadata": {},
   "outputs": [
    {
     "data": {
      "text/html": [
       "<div>\n",
       "<style scoped>\n",
       "    .dataframe tbody tr th:only-of-type {\n",
       "        vertical-align: middle;\n",
       "    }\n",
       "\n",
       "    .dataframe tbody tr th {\n",
       "        vertical-align: top;\n",
       "    }\n",
       "\n",
       "    .dataframe thead th {\n",
       "        text-align: right;\n",
       "    }\n",
       "</style>\n",
       "<table border=\"1\" class=\"dataframe\">\n",
       "  <thead>\n",
       "    <tr style=\"text-align: right;\">\n",
       "      <th></th>\n",
       "      <th>Model</th>\n",
       "      <th>Accuracy</th>\n",
       "      <th>FalseNegRate</th>\n",
       "      <th>Recall</th>\n",
       "      <th>Precision</th>\n",
       "      <th>F1 Score</th>\n",
       "    </tr>\n",
       "  </thead>\n",
       "  <tbody>\n",
       "    <tr>\n",
       "      <th>0</th>\n",
       "      <td>KNN</td>\n",
       "      <td>0.999438</td>\n",
       "      <td>0.278912</td>\n",
       "      <td>0.721088</td>\n",
       "      <td>0.938053</td>\n",
       "      <td>0.815385</td>\n",
       "    </tr>\n",
       "    <tr>\n",
       "      <th>1</th>\n",
       "      <td>DecisionTree</td>\n",
       "      <td>0.999321</td>\n",
       "      <td>0.224490</td>\n",
       "      <td>0.775510</td>\n",
       "      <td>0.820144</td>\n",
       "      <td>0.797203</td>\n",
       "    </tr>\n",
       "    <tr>\n",
       "      <th>2</th>\n",
       "      <td>SVM</td>\n",
       "      <td>0.999345</td>\n",
       "      <td>0.346939</td>\n",
       "      <td>0.653061</td>\n",
       "      <td>0.950495</td>\n",
       "      <td>0.774194</td>\n",
       "    </tr>\n",
       "    <tr>\n",
       "      <th>3</th>\n",
       "      <td>Logistic Regression</td>\n",
       "      <td>0.999204</td>\n",
       "      <td>0.380952</td>\n",
       "      <td>0.619048</td>\n",
       "      <td>0.883495</td>\n",
       "      <td>0.728000</td>\n",
       "    </tr>\n",
       "  </tbody>\n",
       "</table>\n",
       "</div>"
      ],
      "text/plain": [
       "                   Model  Accuracy  FalseNegRate    Recall  Precision  \\\n",
       "0                  KNN    0.999438      0.278912  0.721088   0.938053   \n",
       "1           DecisionTree  0.999321      0.224490  0.775510   0.820144   \n",
       "2                  SVM    0.999345      0.346939  0.653061   0.950495   \n",
       "3  Logistic Regression    0.999204      0.380952  0.619048   0.883495   \n",
       "\n",
       "   F1 Score  \n",
       "0  0.815385  \n",
       "1  0.797203  \n",
       "2  0.774194  \n",
       "3  0.728000  "
      ]
     },
     "execution_count": 48,
     "metadata": {},
     "output_type": "execute_result"
    }
   ],
   "source": [
    "### Store results in dataframe for comparing various Models\n",
    "model_results = pd.DataFrame([['Logistic Regression  ', acc, 1-rec, rec, prec, f1]],\n",
    "               columns = ['Model', 'Accuracy', 'FalseNegRate', 'Recall', 'Precision', 'F1 Score'])\n",
    "results_testset = results_testset.append(model_results, ignore_index = True)\n",
    "results_testset"
   ]
  },
  {
   "cell_type": "code",
   "execution_count": 49,
   "id": "9c98928d",
   "metadata": {},
   "outputs": [
    {
     "data": {
      "image/png": "[encoded data removed]",
      "text/plain": [
       "<Figure size 432x288 with 1 Axes>"
      ]
     },
     "metadata": {
      "needs_background": "light"
     },
     "output_type": "display_data"
    }
   ],
   "source": [
    "ROC_DT = plot_roc_curve(lr_clf, X_test, y_test)\n",
    "plt.show()"
   ]
  },
  {
   "cell_type": "markdown",
   "id": "29ace774",
   "metadata": {},
   "source": [
    "**e: Naive Bayes**"
   ]
  },
  {
   "cell_type": "code",
   "execution_count": 50,
   "id": "47cf54e2",
   "metadata": {},
   "outputs": [],
   "source": [
    "nb_clf= GaussianNB()"
   ]
  },
  {
   "cell_type": "code",
   "execution_count": 51,
   "id": "ca7f9929",
   "metadata": {},
   "outputs": [
    {
     "data": {
      "text/plain": [
       "GaussianNB()"
      ]
     },
     "execution_count": 51,
     "metadata": {},
     "output_type": "execute_result"
    }
   ],
   "source": [
    "nb_clf.fit(X_train,y_train.values.ravel())"
   ]
  },
  {
   "cell_type": "code",
   "execution_count": 52,
   "id": "40ac8043",
   "metadata": {},
   "outputs": [],
   "source": [
    "y_pred = nb_clf.predict(X_test)"
   ]
  },
  {
   "cell_type": "code",
   "execution_count": 53,
   "id": "0af08e31",
   "metadata": {},
   "outputs": [
    {
     "name": "stdout",
     "output_type": "stream",
     "text": [
      "0.9784066570696254\n"
     ]
    }
   ],
   "source": [
    "nb_clf.score(X_test,y_test)"
   ]
  },
  {
   "cell_type": "code",
   "execution_count": 54,
   "id": "e225fe6a",
   "metadata": {},
   "outputs": [
    {
     "name": "stdout",
     "output_type": "stream",
     "text": [
      "Confusion matrix, without normalization\n",
      "[[83475  1821]\n",
      " [   24   123]]\n"
     ]
    },
    {
     "data": {
      "image/png": "[encoded data removed]",
      "text/plain": [
       "<Figure size 432x288 with 2 Axes>"
      ]
     },
     "metadata": {
      "needs_background": "light"
     },
     "output_type": "display_data"
    }
   ],
   "source": [
    "# Confusion matrix on the test dataset\n",
    "cnf_matrix = confusion_matrix(y_test,y_pred)\n",
    "plot_confusion_matrix(cnf_matrix,classes=[0,1])"
   ]
  },
  {
   "cell_type": "code",
   "execution_count": 55,
   "id": "08aa0244",
   "metadata": {},
   "outputs": [],
   "source": [
    "acc = accuracy_score(y_test, y_pred)\n",
    "prec = precision_score(y_test, y_pred)\n",
    "rec = recall_score(y_test, y_pred)\n",
    "f1 = f1_score(y_test, y_pred)"
   ]
  },
  {
   "cell_type": "code",
   "execution_count": 56,
   "id": "3616b3c2",
   "metadata": {},
   "outputs": [
    {
     "data": {
      "text/html": [
       "<div>\n",
       "<style scoped>\n",
       "    .dataframe tbody tr th:only-of-type {\n",
       "        vertical-align: middle;\n",
       "    }\n",
       "\n",
       "    .dataframe tbody tr th {\n",
       "        vertical-align: top;\n",
       "    }\n",
       "\n",
       "    .dataframe thead th {\n",
       "        text-align: right;\n",
       "    }\n",
       "</style>\n",
       "<table border=\"1\" class=\"dataframe\">\n",
       "  <thead>\n",
       "    <tr style=\"text-align: right;\">\n",
       "      <th></th>\n",
       "      <th>Model</th>\n",
       "      <th>Accuracy</th>\n",
       "      <th>FalseNegRate</th>\n",
       "      <th>Recall</th>\n",
       "      <th>Precision</th>\n",
       "      <th>F1 Score</th>\n",
       "    </tr>\n",
       "  </thead>\n",
       "  <tbody>\n",
       "    <tr>\n",
       "      <th>0</th>\n",
       "      <td>KNN</td>\n",
       "      <td>0.999438</td>\n",
       "      <td>0.278912</td>\n",
       "      <td>0.721088</td>\n",
       "      <td>0.938053</td>\n",
       "      <td>0.815385</td>\n",
       "    </tr>\n",
       "    <tr>\n",
       "      <th>1</th>\n",
       "      <td>DecisionTree</td>\n",
       "      <td>0.999321</td>\n",
       "      <td>0.224490</td>\n",
       "      <td>0.775510</td>\n",
       "      <td>0.820144</td>\n",
       "      <td>0.797203</td>\n",
       "    </tr>\n",
       "    <tr>\n",
       "      <th>2</th>\n",
       "      <td>SVM</td>\n",
       "      <td>0.999345</td>\n",
       "      <td>0.346939</td>\n",
       "      <td>0.653061</td>\n",
       "      <td>0.950495</td>\n",
       "      <td>0.774194</td>\n",
       "    </tr>\n",
       "    <tr>\n",
       "      <th>3</th>\n",
       "      <td>Logistic Regression</td>\n",
       "      <td>0.999204</td>\n",
       "      <td>0.380952</td>\n",
       "      <td>0.619048</td>\n",
       "      <td>0.883495</td>\n",
       "      <td>0.728000</td>\n",
       "    </tr>\n",
       "    <tr>\n",
       "      <th>4</th>\n",
       "      <td>Naive Bayes</td>\n",
       "      <td>0.978407</td>\n",
       "      <td>0.163265</td>\n",
       "      <td>0.836735</td>\n",
       "      <td>0.063272</td>\n",
       "      <td>0.117647</td>\n",
       "    </tr>\n",
       "  </tbody>\n",
       "</table>\n",
       "</div>"
      ],
      "text/plain": [
       "                   Model  Accuracy  FalseNegRate    Recall  Precision  \\\n",
       "0                  KNN    0.999438      0.278912  0.721088   0.938053   \n",
       "1           DecisionTree  0.999321      0.224490  0.775510   0.820144   \n",
       "2                  SVM    0.999345      0.346939  0.653061   0.950495   \n",
       "3  Logistic Regression    0.999204      0.380952  0.619048   0.883495   \n",
       "4           Naive Bayes   0.978407      0.163265  0.836735   0.063272   \n",
       "\n",
       "   F1 Score  \n",
       "0  0.815385  \n",
       "1  0.797203  \n",
       "2  0.774194  \n",
       "3  0.728000  \n",
       "4  0.117647  "
      ]
     },
     "execution_count": 56,
     "metadata": {},
     "output_type": "execute_result"
    }
   ],
   "source": [
    "### Store results in dataframe for comparing various Models\n",
    "model_results = pd.DataFrame([['Naive Bayes ', acc, 1-rec, rec, prec, f1]],\n",
    "               columns = ['Model', 'Accuracy', 'FalseNegRate', 'Recall', 'Precision', 'F1 Score'])\n",
    "results_testset = results_testset.append(model_results, ignore_index = True)\n",
    "results_testset"
   ]
  },
  {
   "cell_type": "code",
   "execution_count": 57,
   "id": "e9852a6c",
   "metadata": {},
   "outputs": [
    {
     "data": {
      "image/png": "[encoded data removed]",
      "text/plain": [
       "<Figure size 432x288 with 1 Axes>"
      ]
     },
     "metadata": {
      "needs_background": "light"
     },
     "output_type": "display_data"
    }
   ],
   "source": [
    "ROC_DT = plot_roc_curve(nb_clf, X_test, y_test)\n",
    "plt.show()"
   ]
  },
  {
   "cell_type": "markdown",
   "id": "7d98eb61",
   "metadata": {},
   "source": [
    "**f: Random Forest**"
   ]
  },
  {
   "cell_type": "code",
   "execution_count": 58,
   "id": "dd01a983",
   "metadata": {},
   "outputs": [],
   "source": [
    "rf_clf = RandomForestClassifier(n_estimators=100)"
   ]
  },
  {
   "cell_type": "code",
   "execution_count": 59,
   "id": "98bc28b0",
   "metadata": {},
   "outputs": [
    {
     "data": {
      "text/plain": [
       "RandomForestClassifier()"
      ]
     },
     "execution_count": 59,
     "metadata": {},
     "output_type": "execute_result"
    }
   ],
   "source": [
    "rf_clf.fit(X_train,y_train.values.ravel())"
   ]
  },
  {
   "cell_type": "code",
   "execution_count": 60,
   "id": "f1fb01fa",
   "metadata": {},
   "outputs": [],
   "source": [
    "y_pred = rf_clf.predict(X_test)"
   ]
  },
  {
   "cell_type": "code",
   "execution_count": 61,
   "id": "35ba1ced",
   "metadata": {},
   "outputs": [
    {
     "name": "stdout",
     "output_type": "stream",
     "text": [
      "0.9994850368081645\n"
     ]
    }
   ],
   "source": [
    "rf_clf.score(X_test,y_test)"
   ]
  },
  {
   "cell_type": "code",
   "execution_count": 62,
   "id": "d89e3e64",
   "metadata": {},
   "outputs": [
    {
     "name": "stdout",
     "output_type": "stream",
     "text": [
      "Confusion matrix, without normalization\n",
      "[[85289     7]\n",
      " [   37   110]]\n"
     ]
    },
    {
     "data": {
      "image/png": "[encoded data removed]",
      "text/plain": [
       "<Figure size 432x288 with 2 Axes>"
      ]
     },
     "metadata": {
      "needs_background": "light"
     },
     "output_type": "display_data"
    }
   ],
   "source": [
    "# Confusion matrix on the test dataset\n",
    "cnf_matrix = confusion_matrix(y_test,y_pred)\n",
    "plot_confusion_matrix(cnf_matrix,classes=[0,1])"
   ]
  },
  {
   "cell_type": "code",
   "execution_count": 63,
   "id": "2cce5d91",
   "metadata": {},
   "outputs": [],
   "source": [
    "acc = accuracy_score(y_test, y_pred)\n",
    "prec = precision_score(y_test, y_pred)\n",
    "rec = recall_score(y_test, y_pred)\n",
    "f1 = f1_score(y_test, y_pred)"
   ]
  },
  {
   "cell_type": "code",
   "execution_count": 64,
   "id": "45847e78",
   "metadata": {},
   "outputs": [
    {
     "data": {
      "text/html": [
       "<div>\n",
       "<style scoped>\n",
       "    .dataframe tbody tr th:only-of-type {\n",
       "        vertical-align: middle;\n",
       "    }\n",
       "\n",
       "    .dataframe tbody tr th {\n",
       "        vertical-align: top;\n",
       "    }\n",
       "\n",
       "    .dataframe thead th {\n",
       "        text-align: right;\n",
       "    }\n",
       "</style>\n",
       "<table border=\"1\" class=\"dataframe\">\n",
       "  <thead>\n",
       "    <tr style=\"text-align: right;\">\n",
       "      <th></th>\n",
       "      <th>Model</th>\n",
       "      <th>Accuracy</th>\n",
       "      <th>FalseNegRate</th>\n",
       "      <th>Recall</th>\n",
       "      <th>Precision</th>\n",
       "      <th>F1 Score</th>\n",
       "    </tr>\n",
       "  </thead>\n",
       "  <tbody>\n",
       "    <tr>\n",
       "      <th>0</th>\n",
       "      <td>KNN</td>\n",
       "      <td>0.999438</td>\n",
       "      <td>0.278912</td>\n",
       "      <td>0.721088</td>\n",
       "      <td>0.938053</td>\n",
       "      <td>0.815385</td>\n",
       "    </tr>\n",
       "    <tr>\n",
       "      <th>1</th>\n",
       "      <td>DecisionTree</td>\n",
       "      <td>0.999321</td>\n",
       "      <td>0.224490</td>\n",
       "      <td>0.775510</td>\n",
       "      <td>0.820144</td>\n",
       "      <td>0.797203</td>\n",
       "    </tr>\n",
       "    <tr>\n",
       "      <th>2</th>\n",
       "      <td>SVM</td>\n",
       "      <td>0.999345</td>\n",
       "      <td>0.346939</td>\n",
       "      <td>0.653061</td>\n",
       "      <td>0.950495</td>\n",
       "      <td>0.774194</td>\n",
       "    </tr>\n",
       "    <tr>\n",
       "      <th>3</th>\n",
       "      <td>Logistic Regression</td>\n",
       "      <td>0.999204</td>\n",
       "      <td>0.380952</td>\n",
       "      <td>0.619048</td>\n",
       "      <td>0.883495</td>\n",
       "      <td>0.728000</td>\n",
       "    </tr>\n",
       "    <tr>\n",
       "      <th>4</th>\n",
       "      <td>Naive Bayes</td>\n",
       "      <td>0.978407</td>\n",
       "      <td>0.163265</td>\n",
       "      <td>0.836735</td>\n",
       "      <td>0.063272</td>\n",
       "      <td>0.117647</td>\n",
       "    </tr>\n",
       "    <tr>\n",
       "      <th>5</th>\n",
       "      <td>Random Forest</td>\n",
       "      <td>0.999485</td>\n",
       "      <td>0.251701</td>\n",
       "      <td>0.748299</td>\n",
       "      <td>0.940171</td>\n",
       "      <td>0.833333</td>\n",
       "    </tr>\n",
       "  </tbody>\n",
       "</table>\n",
       "</div>"
      ],
      "text/plain": [
       "                   Model  Accuracy  FalseNegRate    Recall  Precision  \\\n",
       "0                  KNN    0.999438      0.278912  0.721088   0.938053   \n",
       "1           DecisionTree  0.999321      0.224490  0.775510   0.820144   \n",
       "2                  SVM    0.999345      0.346939  0.653061   0.950495   \n",
       "3  Logistic Regression    0.999204      0.380952  0.619048   0.883495   \n",
       "4           Naive Bayes   0.978407      0.163265  0.836735   0.063272   \n",
       "5         Random Forest   0.999485      0.251701  0.748299   0.940171   \n",
       "\n",
       "   F1 Score  \n",
       "0  0.815385  \n",
       "1  0.797203  \n",
       "2  0.774194  \n",
       "3  0.728000  \n",
       "4  0.117647  \n",
       "5  0.833333  "
      ]
     },
     "execution_count": 64,
     "metadata": {},
     "output_type": "execute_result"
    }
   ],
   "source": [
    "### Store results in dataframe for comparing various Models\n",
    "model_results = pd.DataFrame([['Random Forest ', acc, 1-rec, rec, prec, f1]],\n",
    "               columns = ['Model', 'Accuracy', 'FalseNegRate', 'Recall', 'Precision', 'F1 Score'])\n",
    "results_testset = results_testset.append(model_results, ignore_index = True)\n",
    "results_testset"
   ]
  },
  {
   "cell_type": "code",
   "execution_count": 65,
   "id": "bbdb62bb",
   "metadata": {},
   "outputs": [
    {
     "data": {
      "image/png": "[encoded data removed]",
      "text/plain": [
       "<Figure size 432x288 with 1 Axes>"
      ]
     },
     "metadata": {
      "needs_background": "light"
     },
     "output_type": "display_data"
    }
   ],
   "source": [
    "ROC_DT = plot_roc_curve(rf_clf, X_test, y_test)\n",
    "plt.show()"
   ]
  },
  {
   "cell_type": "markdown",
   "id": "b7f6a1f7",
   "metadata": {},
   "source": [
    "**g:Neural Network Model**"
   ]
  },
  {
   "cell_type": "markdown",
   "id": "9e2e80c2",
   "metadata": {},
   "source": [
    "We will use a simple NN made of 5 fully-connected layers with ReLu activation.\n",
    "\n",
    "The NN takes a vector of length 29 as input. \n",
    "\n",
    "This represents the information related to each transactions, i-e each line with 29 columns from the dataset. \n",
    "\n",
    "For each transaction, the final layer will output a probability distribution (sigmoid activation function) and classify either as not fraudulent (0) or fraudulent (1).\n",
    "a dropout step is included to prevent overfitting."
   ]
  },
  {
   "cell_type": "code",
   "execution_count": 66,
   "id": "0ab06fbd",
   "metadata": {},
   "outputs": [],
   "source": [
    "X_train = np.array(X_train)\n",
    "X_test = np.array(X_test)\n",
    "y_train = np.array(y_train)\n",
    "y_test = np.array(y_test)"
   ]
  },
  {
   "cell_type": "code",
   "execution_count": 67,
   "id": "e9e718d5",
   "metadata": {},
   "outputs": [],
   "source": [
    "nn_model = Sequential([\n",
    "    Dense(units=16, input_dim = 29,activation='relu'),   # input of 29 columns as shown above\n",
    "    Dense(units=24,activation='relu'),\n",
    "    Dropout(0.5),\n",
    "    Dense(24,activation='relu'),\n",
    "    Dense(24,activation='relu'),\n",
    "    Dense(1,activation='sigmoid'),                        # binary classification fraudulent or not\n",
    "])"
   ]
  },
  {
   "cell_type": "code",
   "execution_count": 68,
   "id": "ef60bfa7",
   "metadata": {},
   "outputs": [
    {
     "name": "stdout",
     "output_type": "stream",
     "text": [
      "Model: \"sequential\"\n",
      "_________________________________________________________________\n",
      " Layer (type)                Output Shape              Param #   \n",
      "=================================================================\n",
      " dense (Dense)               (None, 16)                480       \n",
      "                                                                 \n",
      " dense_1 (Dense)             (None, 24)                408       \n",
      "                                                                 \n",
      " dropout (Dropout)           (None, 24)                0         \n",
      "                                                                 \n",
      " dense_2 (Dense)             (None, 24)                600       \n",
      "                                                                 \n",
      " dense_3 (Dense)             (None, 24)                600       \n",
      "                                                                 \n",
      " dense_4 (Dense)             (None, 1)                 25        \n",
      "                                                                 \n",
      "=================================================================\n",
      "Total params: 2,113\n",
      "Trainable params: 2,113\n",
      "Non-trainable params: 0\n",
      "_________________________________________________________________\n"
     ]
    }
   ],
   "source": [
    "nn_model.summary()"
   ]
  },
  {
   "cell_type": "markdown",
   "id": "539fd72d",
   "metadata": {},
   "source": [
    "Training:"
   ]
  },
  {
   "cell_type": "code",
   "execution_count": 69,
   "id": "292ea7f2",
   "metadata": {},
   "outputs": [
    {
     "name": "stdout",
     "output_type": "stream",
     "text": [
      "Epoch 1/5\n",
      "13291/13291 [==============================] - 111s 7ms/step - loss: 0.0107 - accuracy: 0.99802s - l - ETA: 1s - loss:\n",
      "Epoch 2/5\n",
      "13291/13291 [==============================] - 95s 7ms/step - loss: 0.0041 - accuracy: 0.9994 0s - loss: 0.0041 - accura - ETA: 0s - loss: 0\n",
      "Epoch 3/5\n",
      "13291/13291 [==============================] - 116s 9ms/step - loss: 0.0038 - accuracy: 0.9994\n",
      "Epoch 4/5\n",
      "13291/13291 [==============================] - 124s 9ms/step - loss: 0.0035 - accuracy: 0.9994\n",
      "Epoch 5/5\n",
      "13291/13291 [==============================] - 140s 10ms/step - loss: 0.0034 - accuracy: 0.9994\n"
     ]
    },
    {
     "data": {
      "text/plain": [
       "<keras.callbacks.History at 0x2538bd75640>"
      ]
     },
     "execution_count": 69,
     "metadata": {},
     "output_type": "execute_result"
    }
   ],
   "source": [
    "nn_model.compile(optimizer='adam',loss='binary_crossentropy',metrics=['accuracy'])\n",
    "nn_model.fit(X_train,y_train,batch_size=15,epochs=10)"
   ]
  },
  {
   "cell_type": "code",
   "execution_count": 70,
   "id": "d4e994d2",
   "metadata": {},
   "outputs": [
    {
     "name": "stdout",
     "output_type": "stream",
     "text": [
      "2671/2671 [==============================] - 44s 7ms/step - loss: 0.0033 - accuracy: 0.9994 5s - l - E - ETA: 2s - loss: 0.0029 - accuracy: 0. - ETA: 2s - loss: 0.003 - E - ETA: 0s - loss: 0.0031 - accu - ETA: 0s - loss: 0.003\n",
      "[0.0032849351409822702, 0.9994031190872192]\n"
     ]
    }
   ],
   "source": [
    "nn_model.evaluate(X_test, y_test)"
   ]
  },
  {
   "cell_type": "markdown",
   "id": "96296386",
   "metadata": {},
   "source": [
    "The model achieves an accuracy of 99.94% !\n",
    "\n",
    "Remember that our dataset is significantly composed of non fraudulent samples \n",
    "with only 172 fraudulent transactions per 100,000. \n",
    "\n",
    "Consequently, a model predicting every transaction as 'non fraudulent' would achieve 99.93% accuracy despite being unable to detect a single fraudulent case !"
   ]
  },
  {
   "cell_type": "code",
   "execution_count": 71,
   "id": "c7b3b737",
   "metadata": {},
   "outputs": [],
   "source": [
    "# Alternative approach to plot confusion matrix (from scikit-learn.org site)\n",
    "y_pred = nn_model.predict(X_test)\n",
    "y_test = pd.DataFrame(y_test) "
   ]
  },
  {
   "cell_type": "code",
   "execution_count": 72,
   "id": "dc717f99",
   "metadata": {},
   "outputs": [],
   "source": [
    "cnf_matrix = confusion_matrix(y_test, y_pred.round())   # y_pred.round() to convert probability to either 0 or 1 in line with y_test"
   ]
  },
  {
   "cell_type": "code",
   "execution_count": 73,
   "id": "5db81216",
   "metadata": {},
   "outputs": [
    {
     "name": "stdout",
     "output_type": "stream",
     "text": [
      "Confusion matrix, without normalization\n",
      "[[85279    17]\n",
      " [   34   113]]\n"
     ]
    },
    {
     "data": {
      "image/png": "[encoded data removed]",
      "text/plain": [
       "<Figure size 432x288 with 2 Axes>"
      ]
     },
     "metadata": {
      "needs_background": "light"
     },
     "output_type": "display_data"
    }
   ],
   "source": [
    "plot_confusion_matrix(cnf_matrix, classes=[0,1])\n",
    "plt.show()"
   ]
  },
  {
   "cell_type": "markdown",
   "id": "0fd0d87d",
   "metadata": {},
   "source": [
    "Detection of fraudulent transactions did not improve compared to the previous machine learning models.\n",
    "\n",
    "110 fraudulent transactions are detected as fraudulent by the model, yet 37 fraudulent transactions are not identified (false negative) which remains an issue. \n",
    "\n",
    "Our objective must be to detect as many fraudulent transactions as possible since these can have a huge negative impact.\n",
    "\n",
    "17 regular transactions are detected as potentially fraudulent by the model. \n",
    "These are false positive. This number is negligible.\n",
    "\n",
    "Conclusion : We must find ways to further reduce the number of false negative."
   ]
  },
  {
   "cell_type": "code",
   "execution_count": 74,
   "id": "403fd3a6",
   "metadata": {},
   "outputs": [],
   "source": [
    "acc = accuracy_score(y_test, y_pred.round())\n",
    "prec = precision_score(y_test, y_pred.round())\n",
    "rec = recall_score(y_test, y_pred.round())\n",
    "f1 = f1_score(y_test, y_pred.round())"
   ]
  },
  {
   "cell_type": "code",
   "execution_count": 75,
   "id": "08db871b",
   "metadata": {},
   "outputs": [
    {
     "data": {
      "text/html": [
       "<div>\n",
       "<style scoped>\n",
       "    .dataframe tbody tr th:only-of-type {\n",
       "        vertical-align: middle;\n",
       "    }\n",
       "\n",
       "    .dataframe tbody tr th {\n",
       "        vertical-align: top;\n",
       "    }\n",
       "\n",
       "    .dataframe thead th {\n",
       "        text-align: right;\n",
       "    }\n",
       "</style>\n",
       "<table border=\"1\" class=\"dataframe\">\n",
       "  <thead>\n",
       "    <tr style=\"text-align: right;\">\n",
       "      <th></th>\n",
       "      <th>Model</th>\n",
       "      <th>Accuracy</th>\n",
       "      <th>FalseNegRate</th>\n",
       "      <th>Recall</th>\n",
       "      <th>Precision</th>\n",
       "      <th>F1 Score</th>\n",
       "    </tr>\n",
       "  </thead>\n",
       "  <tbody>\n",
       "    <tr>\n",
       "      <th>0</th>\n",
       "      <td>KNN</td>\n",
       "      <td>0.999438</td>\n",
       "      <td>0.278912</td>\n",
       "      <td>0.721088</td>\n",
       "      <td>0.938053</td>\n",
       "      <td>0.815385</td>\n",
       "    </tr>\n",
       "    <tr>\n",
       "      <th>1</th>\n",
       "      <td>DecisionTree</td>\n",
       "      <td>0.999321</td>\n",
       "      <td>0.224490</td>\n",
       "      <td>0.775510</td>\n",
       "      <td>0.820144</td>\n",
       "      <td>0.797203</td>\n",
       "    </tr>\n",
       "    <tr>\n",
       "      <th>2</th>\n",
       "      <td>SVM</td>\n",
       "      <td>0.999345</td>\n",
       "      <td>0.346939</td>\n",
       "      <td>0.653061</td>\n",
       "      <td>0.950495</td>\n",
       "      <td>0.774194</td>\n",
       "    </tr>\n",
       "    <tr>\n",
       "      <th>3</th>\n",
       "      <td>Logistic Regression</td>\n",
       "      <td>0.999204</td>\n",
       "      <td>0.380952</td>\n",
       "      <td>0.619048</td>\n",
       "      <td>0.883495</td>\n",
       "      <td>0.728000</td>\n",
       "    </tr>\n",
       "    <tr>\n",
       "      <th>4</th>\n",
       "      <td>Naive Bayes</td>\n",
       "      <td>0.978407</td>\n",
       "      <td>0.163265</td>\n",
       "      <td>0.836735</td>\n",
       "      <td>0.063272</td>\n",
       "      <td>0.117647</td>\n",
       "    </tr>\n",
       "    <tr>\n",
       "      <th>5</th>\n",
       "      <td>Random Forest</td>\n",
       "      <td>0.999485</td>\n",
       "      <td>0.251701</td>\n",
       "      <td>0.748299</td>\n",
       "      <td>0.940171</td>\n",
       "      <td>0.833333</td>\n",
       "    </tr>\n",
       "    <tr>\n",
       "      <th>6</th>\n",
       "      <td>PlainNeuralNetwork</td>\n",
       "      <td>0.999403</td>\n",
       "      <td>0.231293</td>\n",
       "      <td>0.768707</td>\n",
       "      <td>0.869231</td>\n",
       "      <td>0.815884</td>\n",
       "    </tr>\n",
       "  </tbody>\n",
       "</table>\n",
       "</div>"
      ],
      "text/plain": [
       "                   Model  Accuracy  FalseNegRate    Recall  Precision  \\\n",
       "0                  KNN    0.999438      0.278912  0.721088   0.938053   \n",
       "1           DecisionTree  0.999321      0.224490  0.775510   0.820144   \n",
       "2                  SVM    0.999345      0.346939  0.653061   0.950495   \n",
       "3  Logistic Regression    0.999204      0.380952  0.619048   0.883495   \n",
       "4           Naive Bayes   0.978407      0.163265  0.836735   0.063272   \n",
       "5         Random Forest   0.999485      0.251701  0.748299   0.940171   \n",
       "6     PlainNeuralNetwork  0.999403      0.231293  0.768707   0.869231   \n",
       "\n",
       "   F1 Score  \n",
       "0  0.815385  \n",
       "1  0.797203  \n",
       "2  0.774194  \n",
       "3  0.728000  \n",
       "4  0.117647  \n",
       "5  0.833333  \n",
       "6  0.815884  "
      ]
     },
     "execution_count": 75,
     "metadata": {},
     "output_type": "execute_result"
    }
   ],
   "source": [
    "### Store results in dataframe for comparing various Models\n",
    "model_results = pd.DataFrame([['PlainNeuralNetwork', acc, 1-rec, rec, prec, f1]],\n",
    "               columns = ['Model', 'Accuracy', 'FalseNegRate', 'Recall', 'Precision', 'F1 Score'])\n",
    "results_testset = results_testset.append(model_results, ignore_index = True)\n",
    "results_testset"
   ]
  },
  {
   "cell_type": "markdown",
   "id": "0e1056b9",
   "metadata": {},
   "source": [
    "# 5: Oversampling Technique to reduce the false negative rate for the models."
   ]
  },
  {
   "cell_type": "markdown",
   "id": "80c48d72",
   "metadata": {},
   "source": [
    "**Synthetic Minority Oversample TEchnique (SMOTE)**"
   ]
  },
  {
   "cell_type": "markdown",
   "id": "05c9d804",
   "metadata": {},
   "source": [
    "OverSampling can be achieved with the SMOTE method where a new vector is generated between 2 existing datapoints. \n",
    "\n",
    "Applying this technique allows to massively increase the number of fraudulent transactions."
   ]
  },
  {
   "cell_type": "code",
   "execution_count": 89,
   "id": "6ee26aaa",
   "metadata": {},
   "outputs": [],
   "source": [
    "oversample = SMOTE()\n",
    "X_resample, y_resample = oversample.fit_resample(X,y.values.ravel())"
   ]
  },
  {
   "cell_type": "code",
   "execution_count": 90,
   "id": "f0730fb9",
   "metadata": {},
   "outputs": [
    {
     "name": "stdout",
     "output_type": "stream",
     "text": [
      "Number of total transactions--> before SMOTE upsampling:  284807 -->after SMOTE upsampling:  568630\n",
      "Number of fraudulent transactions--> before SMOTE upsampling:  492 -->after SMOTE upsampling:  284315\n"
     ]
    }
   ],
   "source": [
    "print('Number of total transactions--> before SMOTE upsampling: ', len(y), '-->after SMOTE upsampling: ', len(y_resample))\n",
    "print('Number of fraudulent transactions--> before SMOTE upsampling: ', len(y[y.Class==1]), \n",
    "      '-->after SMOTE upsampling: ', np.sum(y_resample[y_resample==1]))"
   ]
  },
  {
   "cell_type": "code",
   "execution_count": 91,
   "id": "b416db84",
   "metadata": {},
   "outputs": [],
   "source": [
    "y_resample = pd.DataFrame(y_resample)\n",
    "X_resample = pd.DataFrame(X_resample)"
   ]
  },
  {
   "cell_type": "code",
   "execution_count": 92,
   "id": "98a0fb6e",
   "metadata": {},
   "outputs": [],
   "source": [
    "X_train, X_test, y_train, y_test = train_test_split(X_resample,y_resample,test_size=0.3)"
   ]
  },
  {
   "cell_type": "code",
   "execution_count": 93,
   "id": "c78c3dee",
   "metadata": {},
   "outputs": [],
   "source": [
    "X_train = np.array(X_train)\n",
    "X_test = np.array(X_test)\n",
    "y_train = np.array(y_train)\n",
    "y_test = np.array(y_test)"
   ]
  },
  {
   "cell_type": "code",
   "execution_count": 94,
   "id": "20547941",
   "metadata": {},
   "outputs": [],
   "source": [
    "model = Sequential([\n",
    "    Dense(units=16, input_dim = 29,activation='relu'),   # input of 29 columns as shown above\n",
    "    Dense(units=24,activation='relu'),\n",
    "    Dropout(0.5),\n",
    "    Dense(24,activation='relu'),\n",
    "    Dense(24,activation='relu'),\n",
    "    Dense(1,activation='sigmoid'),                        # binary classification fraudulent or not\n",
    "])"
   ]
  },
  {
   "cell_type": "code",
   "execution_count": 95,
   "id": "2f1654fd",
   "metadata": {},
   "outputs": [
    {
     "name": "stdout",
     "output_type": "stream",
     "text": [
      "Epoch 1/10\n",
      "26537/26537 [==============================] - 197s 7ms/step - loss: 0.0524 - accuracy: 0.9800\n",
      "Epoch 2/10\n",
      "26537/26537 [==============================] - 186s 7ms/step - loss: 0.0221 - accuracy: 0.9928\n",
      "Epoch 3/10\n",
      "26537/26537 [==============================] - 194s 7ms/step - loss: 0.0176 - accuracy: 0.9947\n",
      "Epoch 4/10\n",
      "26537/26537 [==============================] - 187s 7ms/step - loss: 0.0153 - accuracy: 0.99560s - loss:\n",
      "Epoch 5/10\n",
      "26537/26537 [==============================] - 190s 7ms/step - loss: 0.0134 - accuracy: 0.9963\n",
      "Epoch 6/10\n",
      "26537/26537 [==============================] - 193s 7ms/step - loss: 0.0121 - accuracy: 0.9967\n",
      "Epoch 7/10\n",
      "26537/26537 [==============================] - 185s 7ms/step - loss: 0.0113 - accuracy: 0.9970\n",
      "Epoch 8/10\n",
      "26537/26537 [==============================] - 192s 7ms/step - loss: 0.0102 - accuracy: 0.9973\n",
      "Epoch 9/10\n",
      "26537/26537 [==============================] - 201s 8ms/step - loss: 0.0100 - accuracy: 0.9976\n",
      "Epoch 10/10\n",
      "26537/26537 [==============================] - 196s 7ms/step - loss: 0.0097 - accuracy: 0.9978\n"
     ]
    },
    {
     "data": {
      "text/plain": [
       "<keras.callbacks.History at 0x2538b4f9f70>"
      ]
     },
     "execution_count": 95,
     "metadata": {},
     "output_type": "execute_result"
    }
   ],
   "source": [
    "model.compile(optimizer='adam',loss='binary_crossentropy',metrics=['accuracy'])\n",
    "model.fit(X_train,y_train,batch_size=15,epochs=10)"
   ]
  },
  {
   "cell_type": "code",
   "execution_count": 96,
   "id": "293cc9e2",
   "metadata": {},
   "outputs": [
    {
     "name": "stdout",
     "output_type": "stream",
     "text": [
      "Confusion matrix, without normalization\n",
      "[[85065   299]\n",
      " [    6 85219]]\n"
     ]
    },
    {
     "data": {
      "image/png": "[encoded data removed]",
      "text/plain": [
       "<Figure size 432x288 with 2 Axes>"
      ]
     },
     "metadata": {
      "needs_background": "light"
     },
     "output_type": "display_data"
    }
   ],
   "source": [
    "y_pred = model.predict(X_test)\n",
    "y_expected = pd.DataFrame(y_test)\n",
    "cnf_matrix = confusion_matrix(y_expected, y_pred.round())\n",
    "plot_confusion_matrix(cnf_matrix, classes=[0,1])\n",
    "plt.show()"
   ]
  },
  {
   "cell_type": "markdown",
   "id": "4374ef4c",
   "metadata": {},
   "source": [
    "**Note the Low value of False Negatives. The model is able to detect almost all fraudulent transactions on the full dataset.**\n",
    "\n",
    "**Note the limited number of False Positives which means a lot less verification work (on legitimate transactions) for the fraud departement.**"
   ]
  },
  {
   "cell_type": "code",
   "execution_count": 97,
   "id": "7cf72d5c",
   "metadata": {},
   "outputs": [],
   "source": [
    "acc = accuracy_score(y_test, y_pred.round())\n",
    "prec = precision_score(y_test, y_pred.round())\n",
    "rec = recall_score(y_test, y_pred.round())\n",
    "f1 = f1_score(y_test, y_pred.round())"
   ]
  },
  {
   "cell_type": "code",
   "execution_count": 98,
   "id": "65d65b85",
   "metadata": {},
   "outputs": [
    {
     "data": {
      "text/html": [
       "<div>\n",
       "<style scoped>\n",
       "    .dataframe tbody tr th:only-of-type {\n",
       "        vertical-align: middle;\n",
       "    }\n",
       "\n",
       "    .dataframe tbody tr th {\n",
       "        vertical-align: top;\n",
       "    }\n",
       "\n",
       "    .dataframe thead th {\n",
       "        text-align: right;\n",
       "    }\n",
       "</style>\n",
       "<table border=\"1\" class=\"dataframe\">\n",
       "  <thead>\n",
       "    <tr style=\"text-align: right;\">\n",
       "      <th></th>\n",
       "      <th>Model</th>\n",
       "      <th>Accuracy</th>\n",
       "      <th>FalseNegRate</th>\n",
       "      <th>Recall</th>\n",
       "      <th>Precision</th>\n",
       "      <th>F1 Score</th>\n",
       "    </tr>\n",
       "  </thead>\n",
       "  <tbody>\n",
       "    <tr>\n",
       "      <th>0</th>\n",
       "      <td>KNN</td>\n",
       "      <td>0.999438</td>\n",
       "      <td>0.278912</td>\n",
       "      <td>0.721088</td>\n",
       "      <td>0.938053</td>\n",
       "      <td>0.815385</td>\n",
       "    </tr>\n",
       "    <tr>\n",
       "      <th>1</th>\n",
       "      <td>DecisionTree</td>\n",
       "      <td>0.999321</td>\n",
       "      <td>0.224490</td>\n",
       "      <td>0.775510</td>\n",
       "      <td>0.820144</td>\n",
       "      <td>0.797203</td>\n",
       "    </tr>\n",
       "    <tr>\n",
       "      <th>2</th>\n",
       "      <td>SVM</td>\n",
       "      <td>0.999345</td>\n",
       "      <td>0.346939</td>\n",
       "      <td>0.653061</td>\n",
       "      <td>0.950495</td>\n",
       "      <td>0.774194</td>\n",
       "    </tr>\n",
       "    <tr>\n",
       "      <th>3</th>\n",
       "      <td>Logistic Regression</td>\n",
       "      <td>0.999204</td>\n",
       "      <td>0.380952</td>\n",
       "      <td>0.619048</td>\n",
       "      <td>0.883495</td>\n",
       "      <td>0.728000</td>\n",
       "    </tr>\n",
       "    <tr>\n",
       "      <th>4</th>\n",
       "      <td>Naive Bayes</td>\n",
       "      <td>0.978407</td>\n",
       "      <td>0.163265</td>\n",
       "      <td>0.836735</td>\n",
       "      <td>0.063272</td>\n",
       "      <td>0.117647</td>\n",
       "    </tr>\n",
       "    <tr>\n",
       "      <th>5</th>\n",
       "      <td>Random Forest</td>\n",
       "      <td>0.999485</td>\n",
       "      <td>0.251701</td>\n",
       "      <td>0.748299</td>\n",
       "      <td>0.940171</td>\n",
       "      <td>0.833333</td>\n",
       "    </tr>\n",
       "    <tr>\n",
       "      <th>6</th>\n",
       "      <td>PlainNeuralNetwork</td>\n",
       "      <td>0.999403</td>\n",
       "      <td>0.231293</td>\n",
       "      <td>0.768707</td>\n",
       "      <td>0.869231</td>\n",
       "      <td>0.815884</td>\n",
       "    </tr>\n",
       "    <tr>\n",
       "      <th>7</th>\n",
       "      <td>OverSampledNeuralNetwork</td>\n",
       "      <td>0.998523</td>\n",
       "      <td>0.000702</td>\n",
       "      <td>0.999298</td>\n",
       "      <td>0.997756</td>\n",
       "      <td>0.998526</td>\n",
       "    </tr>\n",
       "    <tr>\n",
       "      <th>8</th>\n",
       "      <td>OverSampledNeuralNetwork</td>\n",
       "      <td>0.998212</td>\n",
       "      <td>0.000070</td>\n",
       "      <td>0.999930</td>\n",
       "      <td>0.996504</td>\n",
       "      <td>0.998214</td>\n",
       "    </tr>\n",
       "  </tbody>\n",
       "</table>\n",
       "</div>"
      ],
      "text/plain": [
       "                      Model  Accuracy  FalseNegRate    Recall  Precision  \\\n",
       "0                     KNN    0.999438      0.278912  0.721088   0.938053   \n",
       "1              DecisionTree  0.999321      0.224490  0.775510   0.820144   \n",
       "2                     SVM    0.999345      0.346939  0.653061   0.950495   \n",
       "3     Logistic Regression    0.999204      0.380952  0.619048   0.883495   \n",
       "4              Naive Bayes   0.978407      0.163265  0.836735   0.063272   \n",
       "5            Random Forest   0.999485      0.251701  0.748299   0.940171   \n",
       "6        PlainNeuralNetwork  0.999403      0.231293  0.768707   0.869231   \n",
       "7  OverSampledNeuralNetwork  0.998523      0.000702  0.999298   0.997756   \n",
       "8  OverSampledNeuralNetwork  0.998212      0.000070  0.999930   0.996504   \n",
       "\n",
       "   F1 Score  \n",
       "0  0.815385  \n",
       "1  0.797203  \n",
       "2  0.774194  \n",
       "3  0.728000  \n",
       "4  0.117647  \n",
       "5  0.833333  \n",
       "6  0.815884  \n",
       "7  0.998526  \n",
       "8  0.998214  "
      ]
     },
     "execution_count": 98,
     "metadata": {},
     "output_type": "execute_result"
    }
   ],
   "source": [
    "### Store results in dataframe for comparing various Models\n",
    "model_results = pd.DataFrame([['OverSampledNeuralNetwork', acc, 1-rec, rec, prec, f1]],\n",
    "               columns = ['Model', 'Accuracy', 'FalseNegRate', 'Recall', 'Precision', 'F1 Score'])\n",
    "results_testset = results_testset.append(model_results, ignore_index = True)\n",
    "results_testset"
   ]
  },
  {
   "cell_type": "code",
   "execution_count": 99,
   "id": "83438606",
   "metadata": {},
   "outputs": [
    {
     "name": "stdout",
     "output_type": "stream",
     "text": [
      "Confusion matrix, without normalization\n",
      "[[283387    928]\n",
      " [     1    491]]\n"
     ]
    },
    {
     "data": {
      "image/png": "[encoded data removed]",
      "text/plain": [
       "<Figure size 432x288 with 2 Axes>"
      ]
     },
     "metadata": {
      "needs_background": "light"
     },
     "output_type": "display_data"
    }
   ],
   "source": [
    "# Confusion matrix on the whole dataset\n",
    "y_pred = model.predict(X)\n",
    "y_expected = pd.DataFrame(y)\n",
    "cnf_matrix = confusion_matrix(y_expected, y_pred.round())\n",
    "plot_confusion_matrix(cnf_matrix, classes=[0,1])\n",
    "plt.show()"
   ]
  },
  {
   "cell_type": "markdown",
   "id": "7f418ce7",
   "metadata": {},
   "source": [
    "**Note the zero value of False Negatives. The model is able to detect all fraudulent transactions on the full dataset.**\n",
    "\n",
    "**Note the limited number of False Positives which means a lot less verification work (on legitimate transactions) for the fraud departement.**"
   ]
  },
  {
   "cell_type": "code",
   "execution_count": 100,
   "id": "d1c6d8ce",
   "metadata": {},
   "outputs": [],
   "source": [
    "acc = accuracy_score(y, y_pred.round())\n",
    "prec = precision_score(y, y_pred.round())\n",
    "rec = recall_score(y, y_pred.round())\n",
    "f1 = f1_score(y, y_pred.round())"
   ]
  },
  {
   "cell_type": "code",
   "execution_count": 101,
   "id": "e379830b",
   "metadata": {},
   "outputs": [
    {
     "data": {
      "text/html": [
       "<div>\n",
       "<style scoped>\n",
       "    .dataframe tbody tr th:only-of-type {\n",
       "        vertical-align: middle;\n",
       "    }\n",
       "\n",
       "    .dataframe tbody tr th {\n",
       "        vertical-align: top;\n",
       "    }\n",
       "\n",
       "    .dataframe thead th {\n",
       "        text-align: right;\n",
       "    }\n",
       "</style>\n",
       "<table border=\"1\" class=\"dataframe\">\n",
       "  <thead>\n",
       "    <tr style=\"text-align: right;\">\n",
       "      <th></th>\n",
       "      <th>Model</th>\n",
       "      <th>Accuracy</th>\n",
       "      <th>FalseNegRate</th>\n",
       "      <th>Recall</th>\n",
       "      <th>Precision</th>\n",
       "      <th>F1 Score</th>\n",
       "    </tr>\n",
       "  </thead>\n",
       "  <tbody>\n",
       "    <tr>\n",
       "      <th>0</th>\n",
       "      <td>KNN</td>\n",
       "      <td>0.999438</td>\n",
       "      <td>0.278912</td>\n",
       "      <td>0.721088</td>\n",
       "      <td>0.938053</td>\n",
       "      <td>0.815385</td>\n",
       "    </tr>\n",
       "    <tr>\n",
       "      <th>1</th>\n",
       "      <td>DecisionTree</td>\n",
       "      <td>0.999321</td>\n",
       "      <td>0.224490</td>\n",
       "      <td>0.775510</td>\n",
       "      <td>0.820144</td>\n",
       "      <td>0.797203</td>\n",
       "    </tr>\n",
       "    <tr>\n",
       "      <th>2</th>\n",
       "      <td>SVM</td>\n",
       "      <td>0.999345</td>\n",
       "      <td>0.346939</td>\n",
       "      <td>0.653061</td>\n",
       "      <td>0.950495</td>\n",
       "      <td>0.774194</td>\n",
       "    </tr>\n",
       "    <tr>\n",
       "      <th>3</th>\n",
       "      <td>Logistic Regression</td>\n",
       "      <td>0.999204</td>\n",
       "      <td>0.380952</td>\n",
       "      <td>0.619048</td>\n",
       "      <td>0.883495</td>\n",
       "      <td>0.728000</td>\n",
       "    </tr>\n",
       "    <tr>\n",
       "      <th>4</th>\n",
       "      <td>Naive Bayes</td>\n",
       "      <td>0.978407</td>\n",
       "      <td>0.163265</td>\n",
       "      <td>0.836735</td>\n",
       "      <td>0.063272</td>\n",
       "      <td>0.117647</td>\n",
       "    </tr>\n",
       "    <tr>\n",
       "      <th>5</th>\n",
       "      <td>Random Forest</td>\n",
       "      <td>0.999485</td>\n",
       "      <td>0.251701</td>\n",
       "      <td>0.748299</td>\n",
       "      <td>0.940171</td>\n",
       "      <td>0.833333</td>\n",
       "    </tr>\n",
       "    <tr>\n",
       "      <th>6</th>\n",
       "      <td>PlainNeuralNetwork</td>\n",
       "      <td>0.999403</td>\n",
       "      <td>0.231293</td>\n",
       "      <td>0.768707</td>\n",
       "      <td>0.869231</td>\n",
       "      <td>0.815884</td>\n",
       "    </tr>\n",
       "    <tr>\n",
       "      <th>7</th>\n",
       "      <td>OverSampledNeuralNetwork</td>\n",
       "      <td>0.998523</td>\n",
       "      <td>0.000702</td>\n",
       "      <td>0.999298</td>\n",
       "      <td>0.997756</td>\n",
       "      <td>0.998526</td>\n",
       "    </tr>\n",
       "    <tr>\n",
       "      <th>8</th>\n",
       "      <td>OverSampledNeuralNetwork</td>\n",
       "      <td>0.998212</td>\n",
       "      <td>0.000070</td>\n",
       "      <td>0.999930</td>\n",
       "      <td>0.996504</td>\n",
       "      <td>0.998214</td>\n",
       "    </tr>\n",
       "    <tr>\n",
       "      <th>9</th>\n",
       "      <td>OverSampledNeuralNetwork</td>\n",
       "      <td>0.996738</td>\n",
       "      <td>0.002033</td>\n",
       "      <td>0.997967</td>\n",
       "      <td>0.346018</td>\n",
       "      <td>0.513867</td>\n",
       "    </tr>\n",
       "  </tbody>\n",
       "</table>\n",
       "</div>"
      ],
      "text/plain": [
       "                      Model  Accuracy  FalseNegRate    Recall  Precision  \\\n",
       "0                     KNN    0.999438      0.278912  0.721088   0.938053   \n",
       "1              DecisionTree  0.999321      0.224490  0.775510   0.820144   \n",
       "2                     SVM    0.999345      0.346939  0.653061   0.950495   \n",
       "3     Logistic Regression    0.999204      0.380952  0.619048   0.883495   \n",
       "4              Naive Bayes   0.978407      0.163265  0.836735   0.063272   \n",
       "5            Random Forest   0.999485      0.251701  0.748299   0.940171   \n",
       "6        PlainNeuralNetwork  0.999403      0.231293  0.768707   0.869231   \n",
       "7  OverSampledNeuralNetwork  0.998523      0.000702  0.999298   0.997756   \n",
       "8  OverSampledNeuralNetwork  0.998212      0.000070  0.999930   0.996504   \n",
       "9  OverSampledNeuralNetwork  0.996738      0.002033  0.997967   0.346018   \n",
       "\n",
       "   F1 Score  \n",
       "0  0.815385  \n",
       "1  0.797203  \n",
       "2  0.774194  \n",
       "3  0.728000  \n",
       "4  0.117647  \n",
       "5  0.833333  \n",
       "6  0.815884  \n",
       "7  0.998526  \n",
       "8  0.998214  \n",
       "9  0.513867  "
      ]
     },
     "execution_count": 101,
     "metadata": {},
     "output_type": "execute_result"
    }
   ],
   "source": [
    "model_results = pd.DataFrame([['OverSampledNeuralNetwork', acc, 1-rec, rec, prec, f1]],\n",
    "               columns = ['Model', 'Accuracy', 'FalseNegRate', 'Recall', 'Precision', 'F1 Score'])\n",
    "results_fullset = results_testset.append(model_results, ignore_index = True)\n",
    "results_fullset"
   ]
  },
  {
   "cell_type": "markdown",
   "id": "54460888",
   "metadata": {},
   "source": [
    "**Note: All metrics are excellent for this last model.**"
   ]
  },
  {
   "cell_type": "markdown",
   "id": "70600354",
   "metadata": {},
   "source": [
    "# Hyper parameter turning & cross Fold"
   ]
  },
  {
   "cell_type": "markdown",
   "id": "cf142bc4",
   "metadata": {},
   "source": [
    "**Cross Validation** is a very useful technique for assessing the performance of machine learning models.\n",
    "\n",
    "It helps in knowing how the machine learning model would generalize to an independent data set and to estimate how accurate your model will predict in practice."
   ]
  },
  {
   "cell_type": "code",
   "execution_count": 7,
   "id": "5fe66864",
   "metadata": {},
   "outputs": [],
   "source": [
    "ACC_test_lr = cross_val_score(LogisticRegression(),X,y.values.ravel())"
   ]
  },
  {
   "cell_type": "code",
   "execution_count": 8,
   "id": "b17c1082",
   "metadata": {},
   "outputs": [
    {
     "data": {
      "text/plain": [
       "array([0.99899933, 0.99933289, 0.99894665, 0.99931532, 0.99903443])"
      ]
     },
     "execution_count": 8,
     "metadata": {},
     "output_type": "execute_result"
    }
   ],
   "source": [
    "ACC_test_lr"
   ]
  },
  {
   "cell_type": "code",
   "execution_count": 9,
   "id": "00a9d0ee",
   "metadata": {},
   "outputs": [],
   "source": [
    "ACC_test_dt = cross_val_score(DecisionTreeClassifier(),X,y.values.ravel())"
   ]
  },
  {
   "cell_type": "code",
   "execution_count": 10,
   "id": "8f17c5f8",
   "metadata": {},
   "outputs": [
    {
     "data": {
      "text/plain": [
       "array([0.99801622, 0.99949089, 0.99603237, 0.99889398, 0.99894665])"
      ]
     },
     "execution_count": 10,
     "metadata": {},
     "output_type": "execute_result"
    }
   ],
   "source": [
    "ACC_test_dt"
   ]
  },
  {
   "cell_type": "code",
   "execution_count": 11,
   "id": "0f32b188",
   "metadata": {},
   "outputs": [],
   "source": [
    "ACC_test_svm = cross_val_score(SVC(),X,y.values.ravel())"
   ]
  },
  {
   "cell_type": "code",
   "execution_count": 12,
   "id": "4b4a1582",
   "metadata": {},
   "outputs": [
    {
     "data": {
      "text/plain": [
       "array([0.998736  , 0.99906956, 0.9989642 , 0.99884131, 0.99926265])"
      ]
     },
     "execution_count": 12,
     "metadata": {},
     "output_type": "execute_result"
    }
   ],
   "source": [
    "ACC_test_svm"
   ]
  },
  {
   "cell_type": "code",
   "execution_count": 14,
   "id": "d0437753",
   "metadata": {},
   "outputs": [
    {
     "name": "stdout",
     "output_type": "stream",
     "text": [
      "[0.99956111 0.99963133 0.99931532 0.99949088 0.99963133]\n"
     ]
    }
   ],
   "source": [
    "from sklearn.model_selection import StratifiedKFold\n",
    "ACC_test_rf4 = cross_val_score(RandomForestClassifier(),X,y.values.ravel(),cv=StratifiedKFold(n_splits=5, shuffle=True))\n",
    "print(ACC_test_rf4)"
   ]
  },
  {
   "cell_type": "code",
   "execution_count": 15,
   "id": "c47f1971",
   "metadata": {},
   "outputs": [],
   "source": [
    "ACC_test_nb = cross_val_score(GaussianNB(),X,y.values.ravel())"
   ]
  },
  {
   "cell_type": "code",
   "execution_count": 16,
   "id": "91e259b9",
   "metadata": {},
   "outputs": [
    {
     "data": {
      "text/plain": [
       "array([0.97644043, 0.9782311 , 0.97975808, 0.97371886, 0.98031987])"
      ]
     },
     "execution_count": 16,
     "metadata": {},
     "output_type": "execute_result"
    }
   ],
   "source": [
    "ACC_test_nb"
   ]
  },
  {
   "cell_type": "code",
   "execution_count": 19,
   "id": "6e5c5197",
   "metadata": {},
   "outputs": [],
   "source": [
    "ACC_test_lr_mean = np.mean(ACC_test_lr);\n",
    "ACC_test_dt_mean = np.mean(ACC_test_dt);\n",
    "ACC_test_svm_mean = np.mean(ACC_test_svm);\n",
    "ACC_test_rf_mean = np.mean(ACC_test_rf4);\n",
    "ACC_test_nb_mean = np.mean(ACC_test_nb);"
   ]
  },
  {
   "cell_type": "code",
   "execution_count": 23,
   "id": "2e032249",
   "metadata": {},
   "outputs": [
    {
     "name": "stdout",
     "output_type": "stream",
     "text": [
      "+----------------+-------------------+-------------------+-------------------+------------------+-------------------+\n",
      "|  KVC Accuracy  |    Logistic (%)   |       DT (%)      |      SVM (%)      |      RF (%)      |       NB (%)      |\n",
      "+----------------+-------------------+-------------------+-------------------+------------------+-------------------+\n",
      "| Testing Models | 99.91257234521112 | 99.82760221656571 | 99.89747448059039 | 99.9525994303316 | 97.76936687504244 |\n",
      "+----------------+-------------------+-------------------+-------------------+------------------+-------------------+\n"
     ]
    }
   ],
   "source": [
    "from prettytable import PrettyTable\n",
    "t = PrettyTable(['KVC Accuracy', 'Logistic (%)' , 'DT (%)' , 'SVM (%)' , 'RF (%)', 'NB (%)'])\n",
    "t.add_row(['Testing Models', ACC_test_lr_mean*100, ACC_test_dt_mean*100, ACC_test_svm_mean*100, ACC_test_rf_mean*100, ACC_test_nb_mean*100])\n",
    "print(t)"
   ]
  },
  {
   "cell_type": "code",
   "execution_count": null,
   "id": "c161d6cc",
   "metadata": {},
   "outputs": [],
   "source": []
  }
 ],
 "metadata": {
  "kernelspec": {
   "display_name": "Python 3",
   "language": "python",
   "name": "python3"
  },
  "language_info": {
   "codemirror_mode": {
    "name": "ipython",
    "version": 3
   },
   "file_extension": ".py",
   "mimetype": "text/x-python",
   "name": "python",
   "nbconvert_exporter": "python",
   "pygments_lexer": "ipython3",
   "version": "3.8.8"
  }
 },
 "nbformat": 4,
 "nbformat_minor": 5
}
