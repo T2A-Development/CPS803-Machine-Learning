{
 "cells": [
  {
   "cell_type": "markdown",
   "id": "1ef8df7c",
   "metadata": {},
   "source": [
    "# Credit Card Fraud Detection"
   ]
  },
  {
   "cell_type": "markdown",
   "id": "fe43879e",
   "metadata": {},
   "source": [
    "Imports"
   ]
  },
  {
   "cell_type": "code",
   "execution_count": 2,
   "id": "769e17df",
   "metadata": {},
   "outputs": [],
   "source": [
    "import numpy as np\n",
    "import scipy as sp\n",
    "import pandas as pd\n",
    "import matplotlib as mpl\n",
    "import matplotlib.pyplot as plt\n",
    "import seaborn as sns\n",
    "\n",
    "# Plotting options\n",
    "%matplotlib inline\n",
    "mpl.style.use('ggplot')\n",
    "sns.set(style='whitegrid')"
   ]
  },
  {
   "cell_type": "markdown",
   "id": "d60e1c1c",
   "metadata": {},
   "source": [
    "Read in the data into a pandas dataframe."
   ]
  },
  {
   "cell_type": "code",
   "execution_count": 45,
   "id": "5821f03b",
   "metadata": {},
   "outputs": [],
   "source": [
    "df = pd.read_csv('creditcard.csv')"
   ]
  },
  {
   "cell_type": "code",
   "execution_count": 5,
   "id": "ae021535",
   "metadata": {},
   "outputs": [
    {
     "data": {
      "text/plain": [
       "(284807, 31)"
      ]
     },
     "execution_count": 5,
     "metadata": {},
     "output_type": "execute_result"
    }
   ],
   "source": [
    "df.shape"
   ]
  },
  {
   "cell_type": "code",
   "execution_count": 7,
   "id": "74f23b02",
   "metadata": {},
   "outputs": [
    {
     "data": {
      "text/html": [
       "<div>\n",
       "<style scoped>\n",
       "    .dataframe tbody tr th:only-of-type {\n",
       "        vertical-align: middle;\n",
       "    }\n",
       "\n",
       "    .dataframe tbody tr th {\n",
       "        vertical-align: top;\n",
       "    }\n",
       "\n",
       "    .dataframe thead th {\n",
       "        text-align: right;\n",
       "    }\n",
       "</style>\n",
       "<table border=\"1\" class=\"dataframe\">\n",
       "  <thead>\n",
       "    <tr style=\"text-align: right;\">\n",
       "      <th></th>\n",
       "      <th>Time</th>\n",
       "      <th>V1</th>\n",
       "      <th>V2</th>\n",
       "      <th>V3</th>\n",
       "      <th>V4</th>\n",
       "      <th>V5</th>\n",
       "      <th>V6</th>\n",
       "      <th>V7</th>\n",
       "      <th>V8</th>\n",
       "      <th>V9</th>\n",
       "      <th>...</th>\n",
       "      <th>V21</th>\n",
       "      <th>V22</th>\n",
       "      <th>V23</th>\n",
       "      <th>V24</th>\n",
       "      <th>V25</th>\n",
       "      <th>V26</th>\n",
       "      <th>V27</th>\n",
       "      <th>V28</th>\n",
       "      <th>Amount</th>\n",
       "      <th>Class</th>\n",
       "    </tr>\n",
       "  </thead>\n",
       "  <tbody>\n",
       "    <tr>\n",
       "      <th>102869</th>\n",
       "      <td>68405.0</td>\n",
       "      <td>1.209026</td>\n",
       "      <td>-0.258138</td>\n",
       "      <td>-0.148610</td>\n",
       "      <td>0.094773</td>\n",
       "      <td>1.426285</td>\n",
       "      <td>3.973773</td>\n",
       "      <td>-1.306023</td>\n",
       "      <td>1.094696</td>\n",
       "      <td>0.501152</td>\n",
       "      <td>...</td>\n",
       "      <td>0.201002</td>\n",
       "      <td>0.485349</td>\n",
       "      <td>-0.106204</td>\n",
       "      <td>1.012410</td>\n",
       "      <td>0.523160</td>\n",
       "      <td>-0.223792</td>\n",
       "      <td>0.077587</td>\n",
       "      <td>0.037555</td>\n",
       "      <td>10.96</td>\n",
       "      <td>0</td>\n",
       "    </tr>\n",
       "    <tr>\n",
       "      <th>148803</th>\n",
       "      <td>90219.0</td>\n",
       "      <td>1.981580</td>\n",
       "      <td>-0.425274</td>\n",
       "      <td>-0.075723</td>\n",
       "      <td>0.714019</td>\n",
       "      <td>-0.871791</td>\n",
       "      <td>-0.505054</td>\n",
       "      <td>-0.838757</td>\n",
       "      <td>-0.049205</td>\n",
       "      <td>2.725764</td>\n",
       "      <td>...</td>\n",
       "      <td>0.003208</td>\n",
       "      <td>0.434481</td>\n",
       "      <td>0.197704</td>\n",
       "      <td>-0.047736</td>\n",
       "      <td>-0.359050</td>\n",
       "      <td>0.536943</td>\n",
       "      <td>-0.050148</td>\n",
       "      <td>-0.056219</td>\n",
       "      <td>9.19</td>\n",
       "      <td>0</td>\n",
       "    </tr>\n",
       "    <tr>\n",
       "      <th>98764</th>\n",
       "      <td>66807.0</td>\n",
       "      <td>1.283267</td>\n",
       "      <td>0.339900</td>\n",
       "      <td>0.154221</td>\n",
       "      <td>0.609343</td>\n",
       "      <td>-0.205264</td>\n",
       "      <td>-0.870362</td>\n",
       "      <td>0.070586</td>\n",
       "      <td>-0.174452</td>\n",
       "      <td>0.073572</td>\n",
       "      <td>...</td>\n",
       "      <td>-0.313029</td>\n",
       "      <td>-0.904495</td>\n",
       "      <td>0.086989</td>\n",
       "      <td>-0.017929</td>\n",
       "      <td>0.260762</td>\n",
       "      <td>0.117169</td>\n",
       "      <td>-0.024080</td>\n",
       "      <td>0.026789</td>\n",
       "      <td>0.89</td>\n",
       "      <td>0</td>\n",
       "    </tr>\n",
       "    <tr>\n",
       "      <th>227623</th>\n",
       "      <td>145146.0</td>\n",
       "      <td>2.052398</td>\n",
       "      <td>-0.130794</td>\n",
       "      <td>-1.248260</td>\n",
       "      <td>0.191040</td>\n",
       "      <td>0.125372</td>\n",
       "      <td>-0.622048</td>\n",
       "      <td>0.056221</td>\n",
       "      <td>-0.144401</td>\n",
       "      <td>0.349256</td>\n",
       "      <td>...</td>\n",
       "      <td>-0.271396</td>\n",
       "      <td>-0.693213</td>\n",
       "      <td>0.271523</td>\n",
       "      <td>-0.498955</td>\n",
       "      <td>-0.272810</td>\n",
       "      <td>0.208745</td>\n",
       "      <td>-0.076713</td>\n",
       "      <td>-0.075404</td>\n",
       "      <td>1.98</td>\n",
       "      <td>0</td>\n",
       "    </tr>\n",
       "    <tr>\n",
       "      <th>138472</th>\n",
       "      <td>82665.0</td>\n",
       "      <td>-0.620675</td>\n",
       "      <td>1.013382</td>\n",
       "      <td>1.373037</td>\n",
       "      <td>0.168698</td>\n",
       "      <td>-0.077993</td>\n",
       "      <td>-1.220428</td>\n",
       "      <td>0.689490</td>\n",
       "      <td>-0.126353</td>\n",
       "      <td>-0.323538</td>\n",
       "      <td>...</td>\n",
       "      <td>-0.237532</td>\n",
       "      <td>-0.624818</td>\n",
       "      <td>0.177414</td>\n",
       "      <td>0.654109</td>\n",
       "      <td>-0.183016</td>\n",
       "      <td>0.045304</td>\n",
       "      <td>0.131843</td>\n",
       "      <td>0.082653</td>\n",
       "      <td>8.38</td>\n",
       "      <td>0</td>\n",
       "    </tr>\n",
       "    <tr>\n",
       "      <th>3299</th>\n",
       "      <td>2846.0</td>\n",
       "      <td>1.233084</td>\n",
       "      <td>0.373278</td>\n",
       "      <td>0.445418</td>\n",
       "      <td>0.768739</td>\n",
       "      <td>-0.517563</td>\n",
       "      <td>-1.256164</td>\n",
       "      <td>0.104029</td>\n",
       "      <td>-0.233175</td>\n",
       "      <td>-0.012273</td>\n",
       "      <td>...</td>\n",
       "      <td>-0.264364</td>\n",
       "      <td>-0.757897</td>\n",
       "      <td>0.167680</td>\n",
       "      <td>0.675560</td>\n",
       "      <td>0.177552</td>\n",
       "      <td>0.073693</td>\n",
       "      <td>-0.021715</td>\n",
       "      <td>0.034479</td>\n",
       "      <td>1.98</td>\n",
       "      <td>0</td>\n",
       "    </tr>\n",
       "    <tr>\n",
       "      <th>202966</th>\n",
       "      <td>134581.0</td>\n",
       "      <td>1.879244</td>\n",
       "      <td>0.063670</td>\n",
       "      <td>-1.907810</td>\n",
       "      <td>1.324628</td>\n",
       "      <td>0.482491</td>\n",
       "      <td>-1.389191</td>\n",
       "      <td>0.928118</td>\n",
       "      <td>-0.529182</td>\n",
       "      <td>-0.141881</td>\n",
       "      <td>...</td>\n",
       "      <td>0.182684</td>\n",
       "      <td>0.429527</td>\n",
       "      <td>-0.088257</td>\n",
       "      <td>-0.012506</td>\n",
       "      <td>0.418847</td>\n",
       "      <td>-0.490828</td>\n",
       "      <td>-0.047648</td>\n",
       "      <td>-0.047801</td>\n",
       "      <td>99.00</td>\n",
       "      <td>0</td>\n",
       "    </tr>\n",
       "    <tr>\n",
       "      <th>129114</th>\n",
       "      <td>78957.0</td>\n",
       "      <td>1.436700</td>\n",
       "      <td>-1.195571</td>\n",
       "      <td>0.502531</td>\n",
       "      <td>-1.376942</td>\n",
       "      <td>-1.647344</td>\n",
       "      <td>-0.709039</td>\n",
       "      <td>-1.070097</td>\n",
       "      <td>-0.125478</td>\n",
       "      <td>-1.615716</td>\n",
       "      <td>...</td>\n",
       "      <td>-0.372139</td>\n",
       "      <td>-0.858441</td>\n",
       "      <td>0.102387</td>\n",
       "      <td>-0.036961</td>\n",
       "      <td>0.138898</td>\n",
       "      <td>-0.390765</td>\n",
       "      <td>0.029173</td>\n",
       "      <td>0.032920</td>\n",
       "      <td>60.00</td>\n",
       "      <td>0</td>\n",
       "    </tr>\n",
       "    <tr>\n",
       "      <th>107047</th>\n",
       "      <td>70257.0</td>\n",
       "      <td>-2.311677</td>\n",
       "      <td>-0.290415</td>\n",
       "      <td>1.604746</td>\n",
       "      <td>3.112319</td>\n",
       "      <td>-0.159493</td>\n",
       "      <td>1.641988</td>\n",
       "      <td>0.917884</td>\n",
       "      <td>0.362325</td>\n",
       "      <td>-0.964000</td>\n",
       "      <td>...</td>\n",
       "      <td>-0.311453</td>\n",
       "      <td>-0.249356</td>\n",
       "      <td>0.499980</td>\n",
       "      <td>-0.293727</td>\n",
       "      <td>0.170575</td>\n",
       "      <td>0.184091</td>\n",
       "      <td>0.419611</td>\n",
       "      <td>0.463940</td>\n",
       "      <td>303.50</td>\n",
       "      <td>0</td>\n",
       "    </tr>\n",
       "    <tr>\n",
       "      <th>214049</th>\n",
       "      <td>139511.0</td>\n",
       "      <td>-0.524705</td>\n",
       "      <td>0.944096</td>\n",
       "      <td>1.273794</td>\n",
       "      <td>0.103998</td>\n",
       "      <td>0.716361</td>\n",
       "      <td>-0.407044</td>\n",
       "      <td>0.973493</td>\n",
       "      <td>-0.267477</td>\n",
       "      <td>-0.496448</td>\n",
       "      <td>...</td>\n",
       "      <td>-0.111776</td>\n",
       "      <td>-0.122055</td>\n",
       "      <td>-0.293143</td>\n",
       "      <td>1.038105</td>\n",
       "      <td>0.364488</td>\n",
       "      <td>0.620927</td>\n",
       "      <td>-0.148991</td>\n",
       "      <td>-0.123673</td>\n",
       "      <td>28.03</td>\n",
       "      <td>0</td>\n",
       "    </tr>\n",
       "  </tbody>\n",
       "</table>\n",
       "<p>10 rows × 31 columns</p>\n",
       "</div>"
      ],
      "text/plain": [
       "            Time        V1        V2        V3        V4        V5        V6  \\\n",
       "102869   68405.0  1.209026 -0.258138 -0.148610  0.094773  1.426285  3.973773   \n",
       "148803   90219.0  1.981580 -0.425274 -0.075723  0.714019 -0.871791 -0.505054   \n",
       "98764    66807.0  1.283267  0.339900  0.154221  0.609343 -0.205264 -0.870362   \n",
       "227623  145146.0  2.052398 -0.130794 -1.248260  0.191040  0.125372 -0.622048   \n",
       "138472   82665.0 -0.620675  1.013382  1.373037  0.168698 -0.077993 -1.220428   \n",
       "3299      2846.0  1.233084  0.373278  0.445418  0.768739 -0.517563 -1.256164   \n",
       "202966  134581.0  1.879244  0.063670 -1.907810  1.324628  0.482491 -1.389191   \n",
       "129114   78957.0  1.436700 -1.195571  0.502531 -1.376942 -1.647344 -0.709039   \n",
       "107047   70257.0 -2.311677 -0.290415  1.604746  3.112319 -0.159493  1.641988   \n",
       "214049  139511.0 -0.524705  0.944096  1.273794  0.103998  0.716361 -0.407044   \n",
       "\n",
       "              V7        V8        V9  ...       V21       V22       V23  \\\n",
       "102869 -1.306023  1.094696  0.501152  ...  0.201002  0.485349 -0.106204   \n",
       "148803 -0.838757 -0.049205  2.725764  ...  0.003208  0.434481  0.197704   \n",
       "98764   0.070586 -0.174452  0.073572  ... -0.313029 -0.904495  0.086989   \n",
       "227623  0.056221 -0.144401  0.349256  ... -0.271396 -0.693213  0.271523   \n",
       "138472  0.689490 -0.126353 -0.323538  ... -0.237532 -0.624818  0.177414   \n",
       "3299    0.104029 -0.233175 -0.012273  ... -0.264364 -0.757897  0.167680   \n",
       "202966  0.928118 -0.529182 -0.141881  ...  0.182684  0.429527 -0.088257   \n",
       "129114 -1.070097 -0.125478 -1.615716  ... -0.372139 -0.858441  0.102387   \n",
       "107047  0.917884  0.362325 -0.964000  ... -0.311453 -0.249356  0.499980   \n",
       "214049  0.973493 -0.267477 -0.496448  ... -0.111776 -0.122055 -0.293143   \n",
       "\n",
       "             V24       V25       V26       V27       V28  Amount  Class  \n",
       "102869  1.012410  0.523160 -0.223792  0.077587  0.037555   10.96      0  \n",
       "148803 -0.047736 -0.359050  0.536943 -0.050148 -0.056219    9.19      0  \n",
       "98764  -0.017929  0.260762  0.117169 -0.024080  0.026789    0.89      0  \n",
       "227623 -0.498955 -0.272810  0.208745 -0.076713 -0.075404    1.98      0  \n",
       "138472  0.654109 -0.183016  0.045304  0.131843  0.082653    8.38      0  \n",
       "3299    0.675560  0.177552  0.073693 -0.021715  0.034479    1.98      0  \n",
       "202966 -0.012506  0.418847 -0.490828 -0.047648 -0.047801   99.00      0  \n",
       "129114 -0.036961  0.138898 -0.390765  0.029173  0.032920   60.00      0  \n",
       "107047 -0.293727  0.170575  0.184091  0.419611  0.463940  303.50      0  \n",
       "214049  1.038105  0.364488  0.620927 -0.148991 -0.123673   28.03      0  \n",
       "\n",
       "[10 rows x 31 columns]"
      ]
     },
     "execution_count": 7,
     "metadata": {},
     "output_type": "execute_result"
    }
   ],
   "source": [
    "df.sample(10)"
   ]
  },
  {
   "cell_type": "code",
   "execution_count": 46,
   "id": "62fba65f",
   "metadata": {},
   "outputs": [
    {
     "data": {
      "text/plain": [
       "0    284315\n",
       "1       492\n",
       "Name: Class, dtype: int64"
      ]
     },
     "execution_count": 46,
     "metadata": {},
     "output_type": "execute_result"
    }
   ],
   "source": [
    "df['Class'].value_counts()"
   ]
  },
  {
   "cell_type": "code",
   "execution_count": 47,
   "id": "d30a667c",
   "metadata": {},
   "outputs": [
    {
     "data": {
      "text/plain": [
       "0    0.998273\n",
       "1    0.001727\n",
       "Name: Class, dtype: float64"
      ]
     },
     "execution_count": 47,
     "metadata": {},
     "output_type": "execute_result"
    }
   ],
   "source": [
    "df['Class'].value_counts(normalize=True)"
   ]
  },
  {
   "cell_type": "markdown",
   "id": "875d4876",
   "metadata": {},
   "source": [
    "Only 0.17% (492 out of 284,807) transactions are fraudulent."
   ]
  },
  {
   "cell_type": "markdown",
   "id": "148175c5",
   "metadata": {},
   "source": [
    "**Train/Test Split**"
   ]
  },
  {
   "cell_type": "markdown",
   "id": "ebc77ca5",
   "metadata": {},
   "source": [
    "Before we begin preprocessing, we split off a test data set. First split the data into features and response variable:"
   ]
  },
  {
   "cell_type": "code",
   "execution_count": 52,
   "id": "6189e0d0",
   "metadata": {},
   "outputs": [],
   "source": [
    "X = df.drop(labels='Class', axis=1) # Features\n",
    "y = df.loc[:,'Class']               # Response"
   ]
  },
  {
   "cell_type": "markdown",
   "id": "ae7f5631",
   "metadata": {},
   "source": [
    "We'll use a test size of 30%. We also stratify the split on the response variable, which is very important to do because there are so few fraudulent transactions."
   ]
  },
  {
   "cell_type": "code",
   "execution_count": 54,
   "id": "cd0c7d68",
   "metadata": {},
   "outputs": [],
   "source": [
    "from sklearn.model_selection import train_test_split\n",
    "X_train, X_test, y_train, y_test = train_test_split(X, y, test_size=0.3, random_state=1, stratify=y)"
   ]
  },
  {
   "cell_type": "code",
   "execution_count": 55,
   "id": "033f26d9",
   "metadata": {},
   "outputs": [
    {
     "data": {
      "text/plain": [
       "(199364, 30)"
      ]
     },
     "execution_count": 55,
     "metadata": {},
     "output_type": "execute_result"
    }
   ],
   "source": [
    "X_train.shape"
   ]
  },
  {
   "cell_type": "code",
   "execution_count": 56,
   "id": "b2c3cd18",
   "metadata": {},
   "outputs": [
    {
     "data": {
      "text/plain": [
       "(85443, 30)"
      ]
     },
     "execution_count": 56,
     "metadata": {},
     "output_type": "execute_result"
    }
   ],
   "source": [
    "X_test.shape"
   ]
  },
  {
   "cell_type": "code",
   "execution_count": null,
   "id": "0ef4eebf",
   "metadata": {},
   "outputs": [],
   "source": []
  },
  {
   "cell_type": "markdown",
   "id": "21cb702d",
   "metadata": {},
   "source": [
    "First we need to figure out if variables have any dependency between them.\n",
    "We will find Mutual Information between Fraud and the Predictors.\n",
    "We learn from sklearn guide that Mutual Information methods can capture any kind of statistical dependency. \n",
    "We have enough training samples to make it work, so we use mutual_info_classif method to find for our case.\n",
    "Mutual information of 0 indicates no dependence, and higher values indicate higher dependence. "
   ]
  },
  {
   "cell_type": "code",
   "execution_count": 14,
   "id": "9513cef9",
   "metadata": {},
   "outputs": [],
   "source": [
    "from sklearn.feature_selection import mutual_info_classif\n",
    "mutual_infos = pd.Series(data=mutual_info_classif(X_train, y_train, discrete_features=False, random_state=1), index=X_train.columns)"
   ]
  },
  {
   "cell_type": "markdown",
   "id": "1d408c24",
   "metadata": {},
   "source": [
    "The calculated mutual informations of each variable with Class, in descending order:"
   ]
  },
  {
   "cell_type": "code",
   "execution_count": 15,
   "id": "c8d23e04",
   "metadata": {},
   "outputs": [
    {
     "data": {
      "text/plain": [
       "V17       0.008037\n",
       "V14       0.007977\n",
       "V10       0.007354\n",
       "V12       0.007354\n",
       "V11       0.006607\n",
       "V16       0.005793\n",
       "V4        0.004843\n",
       "V3        0.004755\n",
       "V18       0.004025\n",
       "V9        0.003996\n",
       "V7        0.003941\n",
       "V2        0.003085\n",
       "V21       0.002304\n",
       "V27       0.002271\n",
       "V6        0.002265\n",
       "V5        0.002254\n",
       "V1        0.001990\n",
       "V8        0.001843\n",
       "V28       0.001757\n",
       "Time      0.001722\n",
       "Amount    0.001388\n",
       "V19       0.001322\n",
       "V20       0.001136\n",
       "V23       0.000827\n",
       "V24       0.000593\n",
       "V26       0.000459\n",
       "V22       0.000388\n",
       "V25       0.000376\n",
       "V15       0.000230\n",
       "V13       0.000205\n",
       "dtype: float64"
      ]
     },
     "execution_count": 15,
     "metadata": {},
     "output_type": "execute_result"
    }
   ],
   "source": [
    "mutual_infos.sort_values(ascending=False)"
   ]
  },
  {
   "cell_type": "markdown",
   "id": "dfa963aa",
   "metadata": {},
   "source": [
    "As you could see above the five most correlated variables with Class are, in decreasing order, V17, V14, V10, V12, and V11."
   ]
  },
  {
   "cell_type": "code",
   "execution_count": 38,
   "id": "1eec708f",
   "metadata": {},
   "outputs": [],
   "source": [
    "# Approach to plot confusion matrix (from scikit-learn.org site)\n",
    "import matplotlib.pyplot as plt\n",
    "import itertools\n",
    "\n",
    "from sklearn import svm, datasets\n",
    "from sklearn.metrics import confusion_matrix\n",
    "\n",
    "def plot_confusion_matrix(cm, classes,\n",
    "                          normalize=False,\n",
    "                          title='Confusion matrix',\n",
    "                          cmap=plt.cm.Blues):\n",
    "    \"\"\"\n",
    "    This function prints and plots the confusion matrix.\n",
    "    Normalization can be applied by setting `normalize=True`.\n",
    "    \"\"\"\n",
    "    if normalize:\n",
    "        cm = cm.astype('float') / cm.sum(axis=1)[:, np.newaxis]\n",
    "        print(\"Normalized confusion matrix\")\n",
    "    else:\n",
    "        print('Confusion matrix, without normalization')\n",
    "\n",
    "    print(cm)\n",
    "\n",
    "    plt.imshow(cm, interpolation='nearest', cmap=cmap)\n",
    "    plt.title(title)\n",
    "    plt.colorbar()\n",
    "    tick_marks = np.arange(len(classes))\n",
    "    plt.xticks(tick_marks, classes, rotation=45)\n",
    "    plt.yticks(tick_marks, classes)\n",
    "\n",
    "    fmt = '.2f' if normalize else 'd'\n",
    "    thresh = cm.max() / 2.\n",
    "    for i, j in itertools.product(range(cm.shape[0]), range(cm.shape[1])):\n",
    "        plt.text(j, i, format(cm[i, j], fmt),\n",
    "                 horizontalalignment=\"center\",\n",
    "                 color=\"white\" if cm[i, j] > thresh else \"black\")\n",
    "\n",
    "    plt.ylabel('True label')\n",
    "    plt.xlabel('Predicted label')\n",
    "    plt.tight_layout()"
   ]
  },
  {
   "cell_type": "code",
   "execution_count": 39,
   "id": "5c93b98e",
   "metadata": {},
   "outputs": [
    {
     "name": "stdout",
     "output_type": "stream",
     "text": [
      "Confusion matrix, without normalization\n",
      "[[56780    84]\n",
      " [   16    82]]\n"
     ]
    },
    {
     "data": {
      "image/png": "[encoded data removed]",
      "text/plain": [
       "<Figure size 432x288 with 2 Axes>"
      ]
     },
     "metadata": {},
     "output_type": "display_data"
    }
   ],
   "source": [
    "# Confusion matrix on the test dataset\n",
    "cnf_matrix = confusion_matrix(y_test,y_pred)\n",
    "plot_confusion_matrix(cnf_matrix,classes=[0,1])"
   ]
  },
  {
   "cell_type": "markdown",
   "id": "96ff7d0e",
   "metadata": {},
   "source": [
    "**Note:** while 84 regular transactions are wrongly predicted as fraudulent, the model only detects 80% of the fraudulent transactions. As a consequence 16 fraudulent transactions are not detected (False Negatives).\n",
    "\n",
    "Let's see if we can improve this performance with other machine learning models in the rest of the notebook."
   ]
  },
  {
   "cell_type": "code",
   "execution_count": null,
   "id": "d3d71aac",
   "metadata": {},
   "outputs": [],
   "source": []
  },
  {
   "cell_type": "code",
   "execution_count": 40,
   "id": "dd41c039",
   "metadata": {},
   "outputs": [
    {
     "name": "stdout",
     "output_type": "stream",
     "text": [
      "accuracy:0.9982 \tprecision:0.4940 \trecall:0.8367 \tF1-score:0.6212\n"
     ]
    }
   ],
   "source": [
    "from sklearn.metrics import accuracy_score, f1_score, precision_score, recall_score, plot_roc_curve\n",
    "acc = accuracy_score(y_test, y_pred)\n",
    "prec = precision_score(y_test, y_pred)\n",
    "rec = recall_score(y_test, y_pred)\n",
    "f1 = f1_score(y_test, y_pred)\n",
    "print('accuracy:%0.4f'%acc,'\\tprecision:%0.4f'%prec,'\\trecall:%0.4f'%rec,'\\tF1-score:%0.4f'%f1)"
   ]
  },
  {
   "cell_type": "code",
   "execution_count": null,
   "id": "c6bdcb34",
   "metadata": {},
   "outputs": [],
   "source": []
  },
  {
   "cell_type": "code",
   "execution_count": null,
   "id": "ec920a14",
   "metadata": {},
   "outputs": [],
   "source": []
  },
  {
   "cell_type": "markdown",
   "id": "769acf29",
   "metadata": {},
   "source": [
    "**Data Modeling**"
   ]
  },
  {
   "cell_type": "markdown",
   "id": "2526f878",
   "metadata": {},
   "source": [
    "At this point we're ready to build machine learning models to predict whether a transaction is fraudulent.\n",
    "\n",
    "We'll train the following models:\n",
    "\n",
    "**-Logistic regression**\n",
    "\n",
    "**-Support vector classifier**\n",
    "\n",
    "**-Random forest**\n",
    "\n",
    "**-Decision trees**"
   ]
  },
  {
   "cell_type": "markdown",
   "id": "e6367f05",
   "metadata": {},
   "source": [
    "**Logistic Regression and Support Vector Classifier**\n",
    "\n",
    "The class SGDClassifier implements multiple linear classifiers with SGD training, which makes learning much faster on large datasets. We'll implement the model as a machine learning pipeline that includes StandardScaler for data standardization (rescaling each variable to zero mean and unit variance)."
   ]
  },
  {
   "cell_type": "code",
   "execution_count": 16,
   "id": "78528045",
   "metadata": {},
   "outputs": [],
   "source": [
    "from sklearn.pipeline import Pipeline\n",
    "from sklearn.preprocessing import StandardScaler\n",
    "from sklearn.linear_model import SGDClassifier"
   ]
  },
  {
   "cell_type": "code",
   "execution_count": 17,
   "id": "de2706f8",
   "metadata": {},
   "outputs": [],
   "source": [
    "pipeline_sgd = Pipeline([\n",
    "    ('scaler', StandardScaler(copy=False)),\n",
    "    ('model', SGDClassifier(max_iter=1000, tol=1e-3, random_state=1, warm_start=True))\n",
    "])"
   ]
  },
  {
   "cell_type": "markdown",
   "id": "4c771c8d",
   "metadata": {},
   "source": [
    "We'll conduct a grid search over several hyperparameter choices. The search uses 5-fold cross-validation with stratified folds.\n",
    "\n",
    "The type of linear classifier is chosen with the loss hyperparameter.\n",
    "\n",
    "For a linear SVC we set loss = 'hinge', and for logistic regression we set loss = 'log'.\n",
    "\n",
    "Set the hyperparameter grids to search over, one grid for the linear SVC and one for logistic regression:"
   ]
  },
  {
   "cell_type": "code",
   "execution_count": 19,
   "id": "4e195bb4",
   "metadata": {},
   "outputs": [],
   "source": [
    "param_grid_sgd = [{\n",
    "    'model__loss': ['log'],\n",
    "    'model__penalty': ['l1', 'l2'],\n",
    "    'model__alpha': np.logspace(start=-3, stop=3, num=20)\n",
    "}, {\n",
    "    'model__loss': ['hinge'],\n",
    "    'model__alpha': np.logspace(start=-3, stop=3, num=20),\n",
    "    'model__class_weight': [None, 'balanced']\n",
    "}]"
   ]
  },
  {
   "cell_type": "markdown",
   "id": "02ff260f",
   "metadata": {},
   "source": [
    "The grid search, implemented by GridSearchCV, uses StratifiedKFold with 5 folds for the train/validation splits.\n",
    "We'll use matthews_corrcoef (the Matthews correlation coefficient, MCC) as our scoring metric."
   ]
  },
  {
   "cell_type": "code",
   "execution_count": 20,
   "id": "a7f17f80",
   "metadata": {},
   "outputs": [],
   "source": [
    "from sklearn.model_selection import GridSearchCV\n",
    "from sklearn.metrics import make_scorer, matthews_corrcoef\n",
    "\n",
    "\n",
    "MCC_scorer = make_scorer(matthews_corrcoef)\n",
    "grid_sgd = GridSearchCV(estimator=pipeline_sgd, param_grid=param_grid_sgd, scoring=MCC_scorer, \n",
    "                        n_jobs=-1, pre_dispatch='2*n_jobs', cv=5, verbose=1, return_train_score=False)"
   ]
  },
  {
   "cell_type": "markdown",
   "id": "a4845365",
   "metadata": {},
   "source": [
    "Now Perform the grid search"
   ]
  },
  {
   "cell_type": "code",
   "execution_count": 21,
   "id": "60de1a4c",
   "metadata": {},
   "outputs": [
    {
     "name": "stdout",
     "output_type": "stream",
     "text": [
      "Fitting 5 folds for each of 80 candidates, totalling 400 fits\n"
     ]
    }
   ],
   "source": [
    "import warnings\n",
    "with warnings.catch_warnings(): # Suppress warnings from the matthews_corrcoef function\n",
    "    warnings.simplefilter(\"ignore\")\n",
    "    grid_sgd.fit(X_train, y_train)"
   ]
  },
  {
   "cell_type": "markdown",
   "id": "36b08d38",
   "metadata": {},
   "source": [
    "Mean cross-validated MCC score of the best estimator found:"
   ]
  },
  {
   "cell_type": "code",
   "execution_count": 22,
   "id": "a8041fc1",
   "metadata": {},
   "outputs": [
    {
     "data": {
      "text/plain": [
       "0.8064954203007113"
      ]
     },
     "execution_count": 22,
     "metadata": {},
     "output_type": "execute_result"
    }
   ],
   "source": [
    "grid_sgd.best_score_"
   ]
  },
  {
   "cell_type": "markdown",
   "id": "bf350a69",
   "metadata": {},
   "source": [
    "This is a pretty good MCC score---random guessing has a score of 0, and a perfect predictor has a score of 1. \n",
    "\n",
    "Now check the best hyperparameters found in the grid search:"
   ]
  },
  {
   "cell_type": "code",
   "execution_count": 23,
   "id": "1afc42cb",
   "metadata": {},
   "outputs": [
    {
     "data": {
      "text/plain": [
       "{'model__alpha': 483.2930238571752,\n",
       " 'model__class_weight': 'balanced',\n",
       " 'model__loss': 'hinge'}"
      ]
     },
     "execution_count": 23,
     "metadata": {},
     "output_type": "execute_result"
    }
   ],
   "source": [
    "grid_sgd.best_params_"
   ]
  },
  {
   "cell_type": "markdown",
   "id": "9804ce96",
   "metadata": {},
   "source": [
    "NOTE: The linear SVC performed better than logistic regression, and with a high level of regularization ($\\alpha\\approx 483$)"
   ]
  },
  {
   "cell_type": "markdown",
   "id": "42792e9b",
   "metadata": {},
   "source": [
    "**Random Forest:**\n",
    "    \n",
    "    Next we'll try a random forest model, implemented in RandomForestClassifier."
   ]
  },
  {
   "cell_type": "code",
   "execution_count": 24,
   "id": "f2a38143",
   "metadata": {},
   "outputs": [],
   "source": [
    "from sklearn.ensemble import RandomForestClassifier"
   ]
  },
  {
   "cell_type": "markdown",
   "id": "3b3708f0",
   "metadata": {},
   "source": [
    "We do not need to rescale the data for tree-based models, so our pipeline will simply consist of the random forest model. \n",
    "\n",
    "We'll leave the pipeline implementation in place in case we want to add preprocessing steps in the future."
   ]
  },
  {
   "cell_type": "code",
   "execution_count": 25,
   "id": "e683126d",
   "metadata": {},
   "outputs": [],
   "source": [
    "pipeline_rf = Pipeline([\n",
    "    ('model', RandomForestClassifier(n_jobs=-1, random_state=1))\n",
    "])"
   ]
  },
  {
   "cell_type": "markdown",
   "id": "0b9c11c3",
   "metadata": {},
   "source": [
    "The random forest takes much longer to train on this fairly large dataset, \n",
    "so we don't actually do a hyperparameter grid search, only specifiying the number of estimators. \n",
    "\n",
    "We'll leave the grid search implemented in case we decide to try different hyperparameter values in the future."
   ]
  },
  {
   "cell_type": "code",
   "execution_count": 26,
   "id": "f581f32e",
   "metadata": {},
   "outputs": [],
   "source": [
    "param_grid_rf = {'model__n_estimators': [75]}\n",
    "\n",
    "grid_rf = GridSearchCV(estimator=pipeline_rf, param_grid=param_grid_rf, scoring=MCC_scorer, \n",
    "                       n_jobs=-1, pre_dispatch='2*n_jobs', cv=5, verbose=1, return_train_score=False)"
   ]
  },
  {
   "cell_type": "markdown",
   "id": "49ed2a6b",
   "metadata": {},
   "source": [
    "Now We Perform the grid search:"
   ]
  },
  {
   "cell_type": "code",
   "execution_count": 27,
   "id": "9e638f11",
   "metadata": {},
   "outputs": [
    {
     "name": "stdout",
     "output_type": "stream",
     "text": [
      "Fitting 5 folds for each of 1 candidates, totalling 5 fits\n"
     ]
    },
    {
     "data": {
      "text/plain": [
       "GridSearchCV(cv=5,\n",
       "             estimator=Pipeline(steps=[('model',\n",
       "                                        RandomForestClassifier(n_jobs=-1,\n",
       "                                                               random_state=1))]),\n",
       "             n_jobs=-1, param_grid={'model__n_estimators': [75]},\n",
       "             scoring=make_scorer(matthews_corrcoef), verbose=1)"
      ]
     },
     "execution_count": 27,
     "metadata": {},
     "output_type": "execute_result"
    }
   ],
   "source": [
    "grid_rf.fit(X_train, y_train)"
   ]
  },
  {
   "cell_type": "code",
   "execution_count": 28,
   "id": "169c4e9d",
   "metadata": {},
   "outputs": [
    {
     "data": {
      "text/plain": [
       "0.8596447282953857"
      ]
     },
     "execution_count": 28,
     "metadata": {},
     "output_type": "execute_result"
    }
   ],
   "source": [
    "grid_rf.best_score_"
   ]
  },
  {
   "cell_type": "markdown",
   "id": "4fcb3d5b",
   "metadata": {},
   "source": [
    "Note: The random forest performed much better than the linear SVC---and without any hyperparameter tweaking!"
   ]
  },
  {
   "cell_type": "code",
   "execution_count": 29,
   "id": "6c5c21c7",
   "metadata": {},
   "outputs": [
    {
     "data": {
      "text/plain": [
       "{'model__n_estimators': 75}"
      ]
     },
     "execution_count": 29,
     "metadata": {},
     "output_type": "execute_result"
    }
   ],
   "source": [
    "grid_rf.best_params_"
   ]
  },
  {
   "cell_type": "markdown",
   "id": "3b22b381",
   "metadata": {},
   "source": [
    "**Decision trees:**"
   ]
  },
  {
   "cell_type": "code",
   "execution_count": 35,
   "id": "84f88c44",
   "metadata": {},
   "outputs": [],
   "source": [
    "from sklearn.tree import DecisionTreeClassifier\n",
    "decision_tree = DecisionTreeClassifier()"
   ]
  },
  {
   "cell_type": "code",
   "execution_count": 36,
   "id": "201d5508",
   "metadata": {},
   "outputs": [
    {
     "data": {
      "text/plain": [
       "DecisionTreeClassifier()"
      ]
     },
     "execution_count": 36,
     "metadata": {},
     "output_type": "execute_result"
    }
   ],
   "source": [
    "decision_tree.fit(X_train,y_train.values.ravel())"
   ]
  },
  {
   "cell_type": "code",
   "execution_count": 41,
   "id": "24a5407b",
   "metadata": {},
   "outputs": [],
   "source": [
    "y_pred = decision_tree.predict(X_test)"
   ]
  },
  {
   "cell_type": "code",
   "execution_count": 42,
   "id": "469e01b9",
   "metadata": {},
   "outputs": [
    {
     "data": {
      "text/plain": [
       "0.9982444436641972"
      ]
     },
     "execution_count": 42,
     "metadata": {},
     "output_type": "execute_result"
    }
   ],
   "source": [
    "decision_tree.score(X_test,y_test)"
   ]
  },
  {
   "cell_type": "code",
   "execution_count": 43,
   "id": "845c3990",
   "metadata": {},
   "outputs": [
    {
     "name": "stdout",
     "output_type": "stream",
     "text": [
      "Confusion matrix, without normalization\n",
      "[[56780    84]\n",
      " [   16    82]]\n"
     ]
    },
    {
     "data": {
      "image/png": "[encoded data removed]",
      "text/plain": [
       "<Figure size 432x288 with 2 Axes>"
      ]
     },
     "metadata": {},
     "output_type": "display_data"
    }
   ],
   "source": [
    "# Confusion matrix on the test dataset\n",
    "cnf_matrix = confusion_matrix(y_test,y_pred)\n",
    "plot_confusion_matrix(cnf_matrix,classes=[0,1])"
   ]
  },
  {
   "cell_type": "markdown",
   "id": "fc9cc023",
   "metadata": {},
   "source": [
    "**Test Set Evaluation of the Best Model**"
   ]
  },
  {
   "cell_type": "markdown",
   "id": "3c718cf9",
   "metadata": {},
   "source": [
    "According to the cross-validated MCC scores, the random forest is the best-performing model, \n",
    "\n",
    "so now let's evaluate its performance on the test set."
   ]
  },
  {
   "cell_type": "code",
   "execution_count": 32,
   "id": "ef960248",
   "metadata": {},
   "outputs": [],
   "source": [
    "from sklearn.metrics import confusion_matrix, classification_report, matthews_corrcoef, cohen_kappa_score, accuracy_score, average_precision_score, roc_auc_score"
   ]
  },
  {
   "cell_type": "code",
   "execution_count": 33,
   "id": "b4621ce2",
   "metadata": {},
   "outputs": [],
   "source": [
    "def classification_eval(estimator, X_test, y_test):\n",
    "    \"\"\"\n",
    "    Print several metrics of classification performance of an estimator, given features X_test and true labels y_test.\n",
    "    \n",
    "    Input: estimator or GridSearchCV instance, X_test, y_test\n",
    "    Returns: text printout of metrics\n",
    "    \"\"\"\n",
    "    y_pred = estimator.predict(X_test)\n",
    "    \n",
    "    # Number of decimal places based on number of samples\n",
    "    dec = np.int64(np.ceil(np.log10(len(y_test))))\n",
    "    \n",
    "    print('CONFUSION MATRIX')\n",
    "    print(confusion_matrix(y_test, y_pred), '\\n')\n",
    "    \n",
    "    print('CLASSIFICATION REPORT')\n",
    "    print(classification_report(y_test, y_pred, digits=dec))\n",
    "    \n",
    "    print('SCALAR METRICS')\n",
    "    format_str = '%%13s = %%.%if' % dec\n",
    "    print(format_str % ('MCC', matthews_corrcoef(y_test, y_pred)))\n",
    "    if y_test.nunique() <= 2: # Additional metrics for binary classification\n",
    "        try:\n",
    "            y_score = estimator.predict_proba(X_test)[:,1]\n",
    "        except:\n",
    "            y_score = estimator.decision_function(X_test)\n",
    "        print(format_str % ('AUPRC', average_precision_score(y_test, y_score)))\n",
    "        print(format_str % ('AUROC', roc_auc_score(y_test, y_score)))\n",
    "    print(format_str % (\"Cohen's kappa\", cohen_kappa_score(y_test, y_pred)))\n",
    "    print(format_str % ('Accuracy', accuracy_score(y_test, y_pred)))"
   ]
  },
  {
   "cell_type": "markdown",
   "id": "3b20c174",
   "metadata": {},
   "source": [
    "Evaluate the random forest on the test set:"
   ]
  },
  {
   "cell_type": "code",
   "execution_count": 34,
   "id": "f03582d3",
   "metadata": {},
   "outputs": [
    {
     "name": "stdout",
     "output_type": "stream",
     "text": [
      "CONFUSION MATRIX\n",
      "[[56853    11]\n",
      " [   15    83]] \n",
      "\n",
      "CLASSIFICATION REPORT\n",
      "              precision    recall  f1-score   support\n",
      "\n",
      "           0    0.99974   0.99981   0.99977     56864\n",
      "           1    0.88298   0.84694   0.86458        98\n",
      "\n",
      "    accuracy                        0.99954     56962\n",
      "   macro avg    0.94136   0.92337   0.93218     56962\n",
      "weighted avg    0.99954   0.99954   0.99954     56962\n",
      "\n",
      "SCALAR METRICS\n",
      "          MCC = 0.86454\n",
      "        AUPRC = 0.85159\n",
      "        AUROC = 0.95916\n",
      "Cohen's kappa = 0.86435\n",
      "     Accuracy = 0.99954\n"
     ]
    }
   ],
   "source": [
    "classification_eval(grid_rf, X_test, y_test)"
   ]
  },
  {
   "cell_type": "markdown",
   "id": "40a34466",
   "metadata": {},
   "source": [
    "**Note:** According to the MCC, the random forest performed better on the test set than on the training set. \n",
    "\n",
    "This is probably due to the refit model being trained on the entire training data set, and not on the smaller CV folds."
   ]
  },
  {
   "cell_type": "markdown",
   "id": "06385b7a",
   "metadata": {},
   "source": [
    "**Conclusion:**"
   ]
  },
  {
   "cell_type": "markdown",
   "id": "ad5e3622",
   "metadata": {},
   "source": [
    "We were able to accurately identify fraudulent credit card transactions using a random forest model.\n",
    "\n",
    "We found that the five variables most correlated with fraud are, in decreasing order, V17, V14, V10, V12, and V11.\n",
    "\n",
    "Only a few preprocessing steps were necessary before constructing predictive models:\n",
    "\n",
    "-Split the data using a random, stratified train/test split with a test size of 20%\n",
    "\n",
    "-Box-Cox power transform of the transaction amounts to remove skewness in the data\n",
    "\n",
    "-Mean and variance standardization of all features as part of a machine learning pipeline\n",
    "\n",
    "We used the Matthews correlation coefficient (MCC) to compare the performance of different models. \n",
    "\n",
    "In cross validation, the best linear model (logistic regression, linear SVC) achieved a cross-validated MCC score of 0.807, \n",
    "\n",
    "and a random forest achieved a cross-validated MCC score of 0.856. We therefore chose the random forest as the better model,\n",
    "\n",
    "which obtained an MCC of 0.869 on the test set.\n",
    "\n",
    "To improve a chosen model, we searched over a grid of hyperparameters and compared performance with cross-validation. "
   ]
  },
  {
   "cell_type": "code",
   "execution_count": null,
   "id": "cd458e35",
   "metadata": {},
   "outputs": [],
   "source": []
  }
 ],
 "metadata": {
  "kernelspec": {
   "display_name": "Python 3",
   "language": "python",
   "name": "python3"
  },
  "language_info": {
   "codemirror_mode": {
    "name": "ipython",
    "version": 3
   },
   "file_extension": ".py",
   "mimetype": "text/x-python",
   "name": "python",
   "nbconvert_exporter": "python",
   "pygments_lexer": "ipython3",
   "version": "3.8.8"
  }
 },
 "nbformat": 4,
 "nbformat_minor": 5
}
